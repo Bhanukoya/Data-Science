{
  "nbformat": 4,
  "nbformat_minor": 0,
  "metadata": {
    "accelerator": "GPU",
    "colab": {
      "name": "NLP_Week4_Exercise_Shakespeare_Answer.ipynb",
      "provenance": [],
      "toc_visible": true
    },
    "kernelspec": {
      "display_name": "Python 3",
      "name": "python3"
    }
  },
  "cells": [
    {
      "cell_type": "code",
      "metadata": {
        "id": "zX4Kg8DUTKWO",
        "colab_type": "code",
        "colab": {}
      },
      "source": [
        "#@title Licensed under the Apache License, Version 2.0 (the \"License\");\n",
        "# you may not use this file except in compliance with the License.\n",
        "# You may obtain a copy of the License at\n",
        "#\n",
        "# https://www.apache.org/licenses/LICENSE-2.0\n",
        "#\n",
        "# Unless required by applicable law or agreed to in writing, software\n",
        "# distributed under the License is distributed on an \"AS IS\" BASIS,\n",
        "# WITHOUT WARRANTIES OR CONDITIONS OF ANY KIND, either express or implied.\n",
        "# See the License for the specific language governing permissions and\n",
        "# limitations under the License."
      ],
      "execution_count": 1,
      "outputs": []
    },
    {
      "cell_type": "code",
      "metadata": {
        "colab_type": "code",
        "id": "BOwsuGQQY9OL",
        "colab": {}
      },
      "source": [
        "from tensorflow.keras.preprocessing.sequence import pad_sequences\n",
        "from tensorflow.keras.layers import Embedding, LSTM, Dense, Dropout, Bidirectional\n",
        "from tensorflow.keras.preprocessing.text import Tokenizer\n",
        "from tensorflow.keras.models import Sequential\n",
        "from tensorflow.keras.optimizers import Adam\n",
        "from tensorflow.keras import regularizers\n",
        "import tensorflow.keras.utils as ku \n",
        "import numpy as np "
      ],
      "execution_count": 2,
      "outputs": []
    },
    {
      "cell_type": "code",
      "metadata": {
        "colab_type": "code",
        "id": "PRnDnCW-Z7qv",
        "colab": {
          "base_uri": "https://localhost:8080/",
          "height": 204
        },
        "outputId": "c8d38d03-6fd9-40ee-db7e-3d4154e4ff76"
      },
      "source": [
        "tokenizer = Tokenizer()\n",
        "!wget --no-check-certificate \\\n",
        "    https://storage.googleapis.com/laurencemoroney-blog.appspot.com/sonnets.txt \\\n",
        "    -O /tmp/sonnets.txt\n",
        "data = open('/tmp/sonnets.txt').read()\n",
        "\n",
        "corpus = data.lower().split(\"\\n\")\n",
        "\n",
        "\n",
        "tokenizer.fit_on_texts(corpus)\n",
        "total_words = len(tokenizer.word_index) + 1\n",
        "\n",
        "# create input sequences using list of tokens\n",
        "input_sequences = []\n",
        "for line in corpus:\n",
        "\ttoken_list = tokenizer.texts_to_sequences([line])[0]\n",
        "\tfor i in range(1, len(token_list)):\n",
        "\t\tn_gram_sequence = token_list[:i+1]\n",
        "\t\tinput_sequences.append(n_gram_sequence)\n",
        "\n",
        "\n",
        "# pad sequences \n",
        "max_sequence_len = max([len(x) for x in input_sequences])\n",
        "input_sequences = np.array(pad_sequences(input_sequences, maxlen=max_sequence_len, padding='pre'))\n",
        "\n",
        "# create predictors and label\n",
        "predictors, label = input_sequences[:,:-1],input_sequences[:,-1]\n",
        "\n",
        "label = ku.to_categorical(label, num_classes=total_words)"
      ],
      "execution_count": 3,
      "outputs": [
        {
          "output_type": "stream",
          "text": [
            "--2020-07-22 00:57:11--  https://storage.googleapis.com/laurencemoroney-blog.appspot.com/sonnets.txt\n",
            "Resolving storage.googleapis.com (storage.googleapis.com)... 74.125.142.128, 74.125.195.128, 74.125.20.128, ...\n",
            "Connecting to storage.googleapis.com (storage.googleapis.com)|74.125.142.128|:443... connected.\n",
            "HTTP request sent, awaiting response... 200 OK\n",
            "Length: 93578 (91K) [text/plain]\n",
            "Saving to: ‘/tmp/sonnets.txt’\n",
            "\n",
            "\r/tmp/sonnets.txt      0%[                    ]       0  --.-KB/s               \r/tmp/sonnets.txt    100%[===================>]  91.38K  --.-KB/s    in 0.001s  \n",
            "\n",
            "2020-07-22 00:57:11 (139 MB/s) - ‘/tmp/sonnets.txt’ saved [93578/93578]\n",
            "\n"
          ],
          "name": "stdout"
        }
      ]
    },
    {
      "cell_type": "code",
      "metadata": {
        "colab_type": "code",
        "id": "w9vH8Y59ajYL",
        "colab": {
          "base_uri": "https://localhost:8080/",
          "height": 374
        },
        "outputId": "9ba34ec6-3603-49fd-fc8b-51f57bc806fa"
      },
      "source": [
        "model = Sequential()\n",
        "model.add(Embedding(total_words, 100, input_length=max_sequence_len-1))\n",
        "model.add(Bidirectional(LSTM(150, return_sequences = True)))\n",
        "model.add(Dropout(0.2))\n",
        "model.add(LSTM(100))\n",
        "model.add(Dense(total_words/2, activation='relu', kernel_regularizer=regularizers.l2(0.01)))\n",
        "model.add(Dense(total_words, activation='softmax'))\n",
        "model.compile(loss='categorical_crossentropy', optimizer='adam', metrics=['accuracy'])\n",
        "print(model.summary())\n"
      ],
      "execution_count": 4,
      "outputs": [
        {
          "output_type": "stream",
          "text": [
            "Model: \"sequential\"\n",
            "_________________________________________________________________\n",
            "Layer (type)                 Output Shape              Param #   \n",
            "=================================================================\n",
            "embedding (Embedding)        (None, 10, 100)           321100    \n",
            "_________________________________________________________________\n",
            "bidirectional (Bidirectional (None, 10, 300)           301200    \n",
            "_________________________________________________________________\n",
            "dropout (Dropout)            (None, 10, 300)           0         \n",
            "_________________________________________________________________\n",
            "lstm_1 (LSTM)                (None, 100)               160400    \n",
            "_________________________________________________________________\n",
            "dense (Dense)                (None, 1605)              162105    \n",
            "_________________________________________________________________\n",
            "dense_1 (Dense)              (None, 3211)              5156866   \n",
            "=================================================================\n",
            "Total params: 6,101,671\n",
            "Trainable params: 6,101,671\n",
            "Non-trainable params: 0\n",
            "_________________________________________________________________\n",
            "None\n"
          ],
          "name": "stdout"
        }
      ]
    },
    {
      "cell_type": "code",
      "metadata": {
        "colab_type": "code",
        "id": "AIg2f1HBxqof",
        "colab": {
          "base_uri": "https://localhost:8080/",
          "height": 1000
        },
        "outputId": "95aebc13-665b-42b0-a429-3334b86e017d"
      },
      "source": [
        " history = model.fit(predictors, label, epochs=100, verbose=1)"
      ],
      "execution_count": 5,
      "outputs": [
        {
          "output_type": "stream",
          "text": [
            "Epoch 1/100\n",
            "484/484 [==============================] - 6s 12ms/step - loss: 6.9154 - accuracy: 0.0210\n",
            "Epoch 2/100\n",
            "484/484 [==============================] - 6s 12ms/step - loss: 6.4985 - accuracy: 0.0225\n",
            "Epoch 3/100\n",
            "484/484 [==============================] - 6s 12ms/step - loss: 6.4090 - accuracy: 0.0250\n",
            "Epoch 4/100\n",
            "484/484 [==============================] - 6s 11ms/step - loss: 6.2837 - accuracy: 0.0297\n",
            "Epoch 5/100\n",
            "484/484 [==============================] - 6s 12ms/step - loss: 6.1749 - accuracy: 0.0341\n",
            "Epoch 6/100\n",
            "484/484 [==============================] - 6s 12ms/step - loss: 6.0861 - accuracy: 0.0393\n",
            "Epoch 7/100\n",
            "484/484 [==============================] - 6s 12ms/step - loss: 6.0064 - accuracy: 0.0414\n",
            "Epoch 8/100\n",
            "484/484 [==============================] - 5s 11ms/step - loss: 5.9165 - accuracy: 0.0431\n",
            "Epoch 9/100\n",
            "484/484 [==============================] - 6s 12ms/step - loss: 5.8113 - accuracy: 0.0529\n",
            "Epoch 10/100\n",
            "484/484 [==============================] - 6s 12ms/step - loss: 5.6970 - accuracy: 0.0597\n",
            "Epoch 11/100\n",
            "484/484 [==============================] - 6s 12ms/step - loss: 5.5821 - accuracy: 0.0653\n",
            "Epoch 12/100\n",
            "484/484 [==============================] - 6s 12ms/step - loss: 5.4747 - accuracy: 0.0697\n",
            "Epoch 13/100\n",
            "484/484 [==============================] - 6s 11ms/step - loss: 5.3769 - accuracy: 0.0761\n",
            "Epoch 14/100\n",
            "484/484 [==============================] - 6s 11ms/step - loss: 5.2739 - accuracy: 0.0832\n",
            "Epoch 15/100\n",
            "484/484 [==============================] - 6s 11ms/step - loss: 5.1779 - accuracy: 0.0888\n",
            "Epoch 16/100\n",
            "484/484 [==============================] - 6s 11ms/step - loss: 5.0739 - accuracy: 0.0974\n",
            "Epoch 17/100\n",
            "484/484 [==============================] - 6s 12ms/step - loss: 4.9753 - accuracy: 0.1018\n",
            "Epoch 18/100\n",
            "484/484 [==============================] - 6s 12ms/step - loss: 4.8780 - accuracy: 0.1129\n",
            "Epoch 19/100\n",
            "484/484 [==============================] - 6s 12ms/step - loss: 4.7782 - accuracy: 0.1204\n",
            "Epoch 20/100\n",
            "484/484 [==============================] - 6s 11ms/step - loss: 4.6704 - accuracy: 0.1323\n",
            "Epoch 21/100\n",
            "484/484 [==============================] - 6s 11ms/step - loss: 4.5701 - accuracy: 0.1406\n",
            "Epoch 22/100\n",
            "484/484 [==============================] - 6s 11ms/step - loss: 4.4711 - accuracy: 0.1515\n",
            "Epoch 23/100\n",
            "484/484 [==============================] - 6s 11ms/step - loss: 4.3590 - accuracy: 0.1647\n",
            "Epoch 24/100\n",
            "484/484 [==============================] - 6s 11ms/step - loss: 4.2630 - accuracy: 0.1769\n",
            "Epoch 25/100\n",
            "484/484 [==============================] - 6s 11ms/step - loss: 4.1598 - accuracy: 0.1892\n",
            "Epoch 26/100\n",
            "484/484 [==============================] - 6s 11ms/step - loss: 4.0671 - accuracy: 0.2033\n",
            "Epoch 27/100\n",
            "484/484 [==============================] - 5s 11ms/step - loss: 3.9659 - accuracy: 0.2196\n",
            "Epoch 28/100\n",
            "484/484 [==============================] - 6s 11ms/step - loss: 3.8687 - accuracy: 0.2358\n",
            "Epoch 29/100\n",
            "484/484 [==============================] - 6s 12ms/step - loss: 3.7763 - accuracy: 0.2527\n",
            "Epoch 30/100\n",
            "484/484 [==============================] - 6s 11ms/step - loss: 3.6777 - accuracy: 0.2680\n",
            "Epoch 31/100\n",
            "484/484 [==============================] - 6s 11ms/step - loss: 3.5938 - accuracy: 0.2857\n",
            "Epoch 32/100\n",
            "484/484 [==============================] - 6s 12ms/step - loss: 3.4983 - accuracy: 0.3044\n",
            "Epoch 33/100\n",
            "484/484 [==============================] - 5s 11ms/step - loss: 3.4096 - accuracy: 0.3267\n",
            "Epoch 34/100\n",
            "484/484 [==============================] - 6s 12ms/step - loss: 3.3264 - accuracy: 0.3406\n",
            "Epoch 35/100\n",
            "484/484 [==============================] - 6s 12ms/step - loss: 3.2457 - accuracy: 0.3608\n",
            "Epoch 36/100\n",
            "484/484 [==============================] - 6s 12ms/step - loss: 3.1634 - accuracy: 0.3771\n",
            "Epoch 37/100\n",
            "484/484 [==============================] - 6s 12ms/step - loss: 3.1020 - accuracy: 0.3934\n",
            "Epoch 38/100\n",
            "484/484 [==============================] - 6s 11ms/step - loss: 3.0210 - accuracy: 0.4111\n",
            "Epoch 39/100\n",
            "484/484 [==============================] - 6s 11ms/step - loss: 2.9540 - accuracy: 0.4259\n",
            "Epoch 40/100\n",
            "484/484 [==============================] - 6s 12ms/step - loss: 2.8720 - accuracy: 0.4429\n",
            "Epoch 41/100\n",
            "484/484 [==============================] - 6s 12ms/step - loss: 2.8164 - accuracy: 0.4547\n",
            "Epoch 42/100\n",
            "484/484 [==============================] - 5s 11ms/step - loss: 2.7373 - accuracy: 0.4769\n",
            "Epoch 43/100\n",
            "484/484 [==============================] - 6s 11ms/step - loss: 2.6958 - accuracy: 0.4849\n",
            "Epoch 44/100\n",
            "484/484 [==============================] - 6s 12ms/step - loss: 2.6396 - accuracy: 0.4930\n",
            "Epoch 45/100\n",
            "484/484 [==============================] - 6s 11ms/step - loss: 2.5715 - accuracy: 0.5160\n",
            "Epoch 46/100\n",
            "484/484 [==============================] - 6s 12ms/step - loss: 2.5187 - accuracy: 0.5251\n",
            "Epoch 47/100\n",
            "484/484 [==============================] - 6s 12ms/step - loss: 2.4539 - accuracy: 0.5394\n",
            "Epoch 48/100\n",
            "484/484 [==============================] - 6s 12ms/step - loss: 2.4146 - accuracy: 0.5502\n",
            "Epoch 49/100\n",
            "484/484 [==============================] - 6s 12ms/step - loss: 2.3613 - accuracy: 0.5614\n",
            "Epoch 50/100\n",
            "484/484 [==============================] - 6s 11ms/step - loss: 2.3172 - accuracy: 0.5696\n",
            "Epoch 51/100\n",
            "484/484 [==============================] - 6s 11ms/step - loss: 2.2782 - accuracy: 0.5764\n",
            "Epoch 52/100\n",
            "484/484 [==============================] - 5s 11ms/step - loss: 2.2312 - accuracy: 0.5889\n",
            "Epoch 53/100\n",
            "484/484 [==============================] - 5s 11ms/step - loss: 2.1825 - accuracy: 0.6010\n",
            "Epoch 54/100\n",
            "484/484 [==============================] - 6s 12ms/step - loss: 2.1417 - accuracy: 0.6138\n",
            "Epoch 55/100\n",
            "484/484 [==============================] - 6s 11ms/step - loss: 2.1051 - accuracy: 0.6197\n",
            "Epoch 56/100\n",
            "484/484 [==============================] - 5s 11ms/step - loss: 2.0579 - accuracy: 0.6286\n",
            "Epoch 57/100\n",
            "484/484 [==============================] - 6s 12ms/step - loss: 2.0319 - accuracy: 0.6307\n",
            "Epoch 58/100\n",
            "484/484 [==============================] - 6s 12ms/step - loss: 1.9975 - accuracy: 0.6389\n",
            "Epoch 59/100\n",
            "484/484 [==============================] - 6s 11ms/step - loss: 1.9476 - accuracy: 0.6534\n",
            "Epoch 60/100\n",
            "484/484 [==============================] - 6s 11ms/step - loss: 1.9164 - accuracy: 0.6629\n",
            "Epoch 61/100\n",
            "484/484 [==============================] - 6s 11ms/step - loss: 1.8944 - accuracy: 0.6619\n",
            "Epoch 62/100\n",
            "484/484 [==============================] - 6s 12ms/step - loss: 1.8589 - accuracy: 0.6692\n",
            "Epoch 63/100\n",
            "484/484 [==============================] - 6s 11ms/step - loss: 1.8264 - accuracy: 0.6769\n",
            "Epoch 64/100\n",
            "484/484 [==============================] - 6s 11ms/step - loss: 1.7932 - accuracy: 0.6871\n",
            "Epoch 65/100\n",
            "484/484 [==============================] - 6s 11ms/step - loss: 1.7699 - accuracy: 0.6879\n",
            "Epoch 66/100\n",
            "484/484 [==============================] - 6s 11ms/step - loss: 1.7475 - accuracy: 0.6921\n",
            "Epoch 67/100\n",
            "484/484 [==============================] - 5s 11ms/step - loss: 1.7184 - accuracy: 0.6995\n",
            "Epoch 68/100\n",
            "484/484 [==============================] - 6s 11ms/step - loss: 1.6839 - accuracy: 0.7096\n",
            "Epoch 69/100\n",
            "484/484 [==============================] - 6s 11ms/step - loss: 1.6662 - accuracy: 0.7081\n",
            "Epoch 70/100\n",
            "484/484 [==============================] - 6s 11ms/step - loss: 1.6411 - accuracy: 0.7152\n",
            "Epoch 71/100\n",
            "484/484 [==============================] - 6s 11ms/step - loss: 1.6108 - accuracy: 0.7233\n",
            "Epoch 72/100\n",
            "484/484 [==============================] - 6s 12ms/step - loss: 1.5788 - accuracy: 0.7279\n",
            "Epoch 73/100\n",
            "484/484 [==============================] - 6s 12ms/step - loss: 1.5650 - accuracy: 0.7291\n",
            "Epoch 74/100\n",
            "484/484 [==============================] - 6s 12ms/step - loss: 1.5461 - accuracy: 0.7325\n",
            "Epoch 75/100\n",
            "484/484 [==============================] - 6s 12ms/step - loss: 1.5262 - accuracy: 0.7389\n",
            "Epoch 76/100\n",
            "484/484 [==============================] - 6s 12ms/step - loss: 1.5138 - accuracy: 0.7367\n",
            "Epoch 77/100\n",
            "484/484 [==============================] - 6s 12ms/step - loss: 1.4868 - accuracy: 0.7447\n",
            "Epoch 78/100\n",
            "484/484 [==============================] - 6s 12ms/step - loss: 1.4797 - accuracy: 0.7463\n",
            "Epoch 79/100\n",
            "484/484 [==============================] - 6s 12ms/step - loss: 1.4537 - accuracy: 0.7489\n",
            "Epoch 80/100\n",
            "484/484 [==============================] - 6s 12ms/step - loss: 1.4399 - accuracy: 0.7551\n",
            "Epoch 81/100\n",
            "484/484 [==============================] - 6s 12ms/step - loss: 1.4041 - accuracy: 0.7613\n",
            "Epoch 82/100\n",
            "484/484 [==============================] - 6s 12ms/step - loss: 1.3994 - accuracy: 0.7595\n",
            "Epoch 83/100\n",
            "484/484 [==============================] - 6s 12ms/step - loss: 1.3871 - accuracy: 0.7632\n",
            "Epoch 84/100\n",
            "484/484 [==============================] - 6s 12ms/step - loss: 1.3582 - accuracy: 0.7691\n",
            "Epoch 85/100\n",
            "484/484 [==============================] - 6s 12ms/step - loss: 1.3519 - accuracy: 0.7670\n",
            "Epoch 86/100\n",
            "484/484 [==============================] - 6s 12ms/step - loss: 1.3283 - accuracy: 0.7742\n",
            "Epoch 87/100\n",
            "484/484 [==============================] - 6s 13ms/step - loss: 1.3192 - accuracy: 0.7753\n",
            "Epoch 88/100\n",
            "484/484 [==============================] - 6s 12ms/step - loss: 1.3163 - accuracy: 0.7730\n",
            "Epoch 89/100\n",
            "484/484 [==============================] - 6s 12ms/step - loss: 1.2950 - accuracy: 0.7772\n",
            "Epoch 90/100\n",
            "484/484 [==============================] - 6s 12ms/step - loss: 1.2740 - accuracy: 0.7823\n",
            "Epoch 91/100\n",
            "484/484 [==============================] - 6s 12ms/step - loss: 1.2679 - accuracy: 0.7801\n",
            "Epoch 92/100\n",
            "484/484 [==============================] - 6s 12ms/step - loss: 1.2449 - accuracy: 0.7864\n",
            "Epoch 93/100\n",
            "484/484 [==============================] - 6s 12ms/step - loss: 1.2469 - accuracy: 0.7835\n",
            "Epoch 94/100\n",
            "484/484 [==============================] - 6s 12ms/step - loss: 1.2433 - accuracy: 0.7827\n",
            "Epoch 95/100\n",
            "484/484 [==============================] - 6s 13ms/step - loss: 1.2220 - accuracy: 0.7906\n",
            "Epoch 96/100\n",
            "484/484 [==============================] - 6s 13ms/step - loss: 1.2272 - accuracy: 0.7877\n",
            "Epoch 97/100\n",
            "484/484 [==============================] - 6s 12ms/step - loss: 1.2081 - accuracy: 0.7925\n",
            "Epoch 98/100\n",
            "484/484 [==============================] - 6s 12ms/step - loss: 1.1871 - accuracy: 0.7961\n",
            "Epoch 99/100\n",
            "484/484 [==============================] - 6s 13ms/step - loss: 1.1687 - accuracy: 0.7995\n",
            "Epoch 100/100\n",
            "484/484 [==============================] - 6s 12ms/step - loss: 1.1610 - accuracy: 0.8001\n"
          ],
          "name": "stdout"
        }
      ]
    },
    {
      "cell_type": "code",
      "metadata": {
        "colab_type": "code",
        "id": "1fXTEO3GJ282",
        "colab": {
          "base_uri": "https://localhost:8080/",
          "height": 545
        },
        "outputId": "bfd01129-cf0e-4470-d04c-0d5d06f87a50"
      },
      "source": [
        "import matplotlib.pyplot as plt\n",
        "acc = history.history['accuracy']\n",
        "loss = history.history['loss']\n",
        "\n",
        "epochs = range(len(acc))\n",
        "\n",
        "plt.plot(epochs, acc, 'b', label='Training accuracy')\n",
        "plt.title('Training accuracy')\n",
        "\n",
        "plt.figure()\n",
        "\n",
        "plt.plot(epochs, loss, 'b', label='Training Loss')\n",
        "plt.title('Training loss')\n",
        "plt.legend()\n",
        "\n",
        "plt.show()"
      ],
      "execution_count": 6,
      "outputs": [
        {
          "output_type": "display_data",
          "data": {
            "image/png": "[encoded data removed]",
            "text/plain": [
              "<Figure size 432x288 with 1 Axes>"
            ]
          },
          "metadata": {
            "tags": [],
            "needs_background": "light"
          }
        },
        {
          "output_type": "display_data",
          "data": {
            "image/png": "[encoded data removed]",
            "text/plain": [
              "<Figure size 432x288 with 1 Axes>"
            ]
          },
          "metadata": {
            "tags": [],
            "needs_background": "light"
          }
        }
      ]
    },
    {
      "cell_type": "code",
      "metadata": {
        "colab_type": "code",
        "id": "6Vc6PHgxa6Hm",
        "colab": {
          "base_uri": "https://localhost:8080/",
          "height": 105
        },
        "outputId": "4eb127df-1fab-46a6-e3a9-b63ca69d68d7"
      },
      "source": [
        "seed_text = \"Help me Obi Wan Kenobi, you're my only hope\"\n",
        "next_words = 100\n",
        "  \n",
        "for _ in range(next_words):\n",
        "\ttoken_list = tokenizer.texts_to_sequences([seed_text])[0]\n",
        "\ttoken_list = pad_sequences([token_list], maxlen=max_sequence_len-1, padding='pre')\n",
        "\tpredicted = model.predict_classes(token_list, verbose=0)\n",
        "\toutput_word = \"\"\n",
        "\tfor word, index in tokenizer.word_index.items():\n",
        "\t\tif index == predicted:\n",
        "\t\t\toutput_word = word\n",
        "\t\t\tbreak\n",
        "\tseed_text += \" \" + output_word\n",
        "print(seed_text)"
      ],
      "execution_count": 7,
      "outputs": [
        {
          "output_type": "stream",
          "text": [
            "WARNING:tensorflow:From <ipython-input-7-622d307fa19a>:7: Sequential.predict_classes (from tensorflow.python.keras.engine.sequential) is deprecated and will be removed after 2021-01-01.\n",
            "Instructions for updating:\n",
            "Please use instead:* `np.argmax(model.predict(x), axis=-1)`,   if your model does multi-class classification   (e.g. if it uses a `softmax` last-layer activation).* `(model.predict(x) > 0.5).astype(\"int32\")`,   if your model does binary classification   (e.g. if it uses a `sigmoid` last-layer activation).\n",
            "Help me Obi Wan Kenobi, you're my only hope hath black might say thee thee so lie in thee much doth thee much bright prove thee others go far so worthless worthless worthless worthless song forgot did play on appetite it less glory prove wrong wrong wrong wrong skill fuel borrow'd gems decrease dyed had hate ' ' give ' go works by me we stain them young back back tend skill sit dyed dyed sit bad so young behind days comment here doth keep like men up far far speaking wastes wastes age go cold wrong wrong wrong wrong wrong days dyed dyed dyed dyed dyed dyed lies\n"
          ],
          "name": "stdout"
        }
      ]
    }
  ]
}