{
  "nbformat": 4,
  "nbformat_minor": 0,
  "metadata": {
    "colab": {
      "name": "NLP_text_prediction_irish_song.ipynb",
      "provenance": [],
      "authorship_tag": "ABX9TyNJpdu63KxlwKK5Bg8fsKBc",
      "include_colab_link": true
    },
    "kernelspec": {
      "name": "python3",
      "display_name": "Python 3"
    }
  },
  "cells": [
    {
      "cell_type": "markdown",
      "metadata": {
        "id": "view-in-github",
        "colab_type": "text"
      },
      "source": [
        "<a href=\"https://colab.research.google.com/github/Bhanukoya/Natural-Language-Processing/blob/master/NLP_text_prediction_irish_song.ipynb\" target=\"_parent\"><img src=\"https://colab.research.google.com/assets/colab-badge.svg\" alt=\"Open In Colab\"/></a>"
      ]
    },
    {
      "cell_type": "markdown",
      "metadata": {
        "id": "KCplhHVTtpGC",
        "colab_type": "text"
      },
      "source": [
        "# NLP - Text prediction using LSTM"
      ]
    },
    {
      "cell_type": "code",
      "metadata": {
        "id": "B-537hTFJqsW",
        "colab_type": "code",
        "colab": {}
      },
      "source": [
        "import pandas as pd\n",
        "import numpy as np\n",
        "import matplotlib.pyplot as plt"
      ],
      "execution_count": 1,
      "outputs": []
    },
    {
      "cell_type": "code",
      "metadata": {
        "id": "iX7_Ys2DKqWI",
        "colab_type": "code",
        "colab": {
          "base_uri": "https://localhost:8080/",
          "height": 140
        },
        "outputId": "f908ca2c-a607-4d87-bb02-10d3289c3410"
      },
      "source": [
        "data=\"In the town of Athy one Jeremy Lanigan \\n Battered away til he hadnt a pound. \\nHis father died and made him a man again \\n Left him a farm and ten acres of ground. \\nHe gave a grand party for friends and relations \\nWho didnt forget him when come to the wall, \\nAnd if youll but listen Ill make your eyes glisten \\nOf the rows and the ructions of Lanigans Ball. \\nMyself to be sure got free invitation, \\nFor all the nice girls and boys I might ask, \\nAnd just in a minute both friends and relations \\nWere dancing round merry as bees round a cask. \\nJudy ODaly, that nice little milliner, \\nShe tipped me a wink for to give her a call, \\nAnd I soon arrived with Peggy McGilligan \\nJust in time for Lanigans Ball. \\nThere were lashings of punch and wine for the ladies, \\nPotatoes and cakes; there was bacon and tea, \\nThere were the Nolans, Dolans, OGradys \\nCourting the girls and dancing away. \\nSongs they went round as plenty as water, \\nThe harp that once sounded in Taras old hall,\\nSweet Nelly Gray and The Rat Catchers Daughter,\\nAll singing together at Lanigans Ball. \\nThey were doing all kinds of nonsensical polkas \\nAll round the room in a whirligig. \\nJulia and I, we banished their nonsense \\nAnd tipped them the twist of a reel and a jig. \\nAch mavrone, how the girls got all mad at me \\nDanced til youd think the ceiling would fall. \\nFor I spent three weeks at Brooks Academy \\nLearning new steps for Lanigans Ball. \\nThree long weeks I spent up in Dublin, \\nThree long weeks to learn nothing at all,\\n Three long weeks I spent up in Dublin, \\nLearning new steps for Lanigans Ball. \\nShe stepped out and I stepped in again, \\nI stepped out and she stepped in again, \\nShe stepped out and I stepped in again, \\nLearning new steps for Lanigans Ball. \\nBoys were all merry and the girls they were hearty \\nAnd danced all around in couples and groups, \\nTil an accident happened, young Terrance McCarthy \\nPut his right leg through miss Finnertys hoops. \\nPoor creature fainted and cried Meelia murther, \\nCalled for her brothers and gathered them all. \\nCarmody swore that hed go no further \\nTil he had satisfaction at Lanigans Ball. \\nIn the midst of the row miss Kerrigan fainted, \\nHer cheeks at the same time as red as a rose. \\nSome of the lads declared she was painted, \\nShe took a small drop too much, I suppose. \\nHer sweetheart, Ned Morgan, so powerful and able, \\nWhen he saw his fair colleen stretched out by the wall, \\nTore the left leg from under the table \\nAnd smashed all the Chaneys at Lanigans Ball. \\nBoys, oh boys, twas then there were runctions. \\nMyself got a lick from big Phelim McHugh. \\nI soon replied to his introduction \\nAnd kicked up a terrible hullabaloo. \\nOld Casey, the piper, was near being strangled. \\nThey squeezed up his pipes, bellows, chanters and all. \\nThe girls, in their ribbons, they got all entangled \\nAnd that put an end to Lanigans Ball.\"\n",
        "data"
      ],
      "execution_count": 2,
      "outputs": [
        {
          "output_type": "execute_result",
          "data": {
            "application/vnd.google.colaboratory.intrinsic": {
              "type": "string"
            },
            "text/plain": [
              "'In the town of Athy one Jeremy Lanigan \\n Battered away til he hadnt a pound. \\nHis father died and made him a man again \\n Left him a farm and ten acres of ground. \\nHe gave a grand party for friends and relations \\nWho didnt forget him when come to the wall, \\nAnd if youll but listen Ill make your eyes glisten \\nOf the rows and the ructions of Lanigans Ball. \\nMyself to be sure got free invitation, \\nFor all the nice girls and boys I might ask, \\nAnd just in a minute both friends and relations \\nWere dancing round merry as bees round a cask. \\nJudy ODaly, that nice little milliner, \\nShe tipped me a wink for to give her a call, \\nAnd I soon arrived with Peggy McGilligan \\nJust in time for Lanigans Ball. \\nThere were lashings of punch and wine for the ladies, \\nPotatoes and cakes; there was bacon and tea, \\nThere were the Nolans, Dolans, OGradys \\nCourting the girls and dancing away. \\nSongs they went round as plenty as water, \\nThe harp that once sounded in Taras old hall,\\nSweet Nelly Gray and The Rat Catchers Daughter,\\nAll singing together at Lanigans Ball. \\nThey were doing all kinds of nonsensical polkas \\nAll round the room in a whirligig. \\nJulia and I, we banished their nonsense \\nAnd tipped them the twist of a reel and a jig. \\nAch mavrone, how the girls got all mad at me \\nDanced til youd think the ceiling would fall. \\nFor I spent three weeks at Brooks Academy \\nLearning new steps for Lanigans Ball. \\nThree long weeks I spent up in Dublin, \\nThree long weeks to learn nothing at all,\\n Three long weeks I spent up in Dublin, \\nLearning new steps for Lanigans Ball. \\nShe stepped out and I stepped in again, \\nI stepped out and she stepped in again, \\nShe stepped out and I stepped in again, \\nLearning new steps for Lanigans Ball. \\nBoys were all merry and the girls they were hearty \\nAnd danced all around in couples and groups, \\nTil an accident happened, young Terrance McCarthy \\nPut his right leg through miss Finnertys hoops. \\nPoor creature fainted and cried Meelia murther, \\nCalled for her brothers and gathered them all. \\nCarmody swore that hed go no further \\nTil he had satisfaction at Lanigans Ball. \\nIn the midst of the row miss Kerrigan fainted, \\nHer cheeks at the same time as red as a rose. \\nSome of the lads declared she was painted, \\nShe took a small drop too much, I suppose. \\nHer sweetheart, Ned Morgan, so powerful and able, \\nWhen he saw his fair colleen stretched out by the wall, \\nTore the left leg from under the table \\nAnd smashed all the Chaneys at Lanigans Ball. \\nBoys, oh boys, twas then there were runctions. \\nMyself got a lick from big Phelim McHugh. \\nI soon replied to his introduction \\nAnd kicked up a terrible hullabaloo. \\nOld Casey, the piper, was near being strangled. \\nThey squeezed up his pipes, bellows, chanters and all. \\nThe girls, in their ribbons, they got all entangled \\nAnd that put an end to Lanigans Ball.'"
            ]
          },
          "metadata": {
            "tags": []
          },
          "execution_count": 2
        }
      ]
    },
    {
      "cell_type": "code",
      "metadata": {
        "id": "YAcbWnWJK7LW",
        "colab_type": "code",
        "colab": {}
      },
      "source": [
        "sentences = data.lower().split('\\n')"
      ],
      "execution_count": 3,
      "outputs": []
    },
    {
      "cell_type": "code",
      "metadata": {
        "id": "KAhCH4FBLEBo",
        "colab_type": "code",
        "colab": {
          "base_uri": "https://localhost:8080/",
          "height": 54
        },
        "outputId": "1f56410d-60c3-4c8c-b3db-2f81a6537542"
      },
      "source": [
        "print(sentences)"
      ],
      "execution_count": 4,
      "outputs": [
        {
          "output_type": "stream",
          "text": [
            "['in the town of athy one jeremy lanigan ', ' battered away til he hadnt a pound. ', 'his father died and made him a man again ', ' left him a farm and ten acres of ground. ', 'he gave a grand party for friends and relations ', 'who didnt forget him when come to the wall, ', 'and if youll but listen ill make your eyes glisten ', 'of the rows and the ructions of lanigans ball. ', 'myself to be sure got free invitation, ', 'for all the nice girls and boys i might ask, ', 'and just in a minute both friends and relations ', 'were dancing round merry as bees round a cask. ', 'judy odaly, that nice little milliner, ', 'she tipped me a wink for to give her a call, ', 'and i soon arrived with peggy mcgilligan ', 'just in time for lanigans ball. ', 'there were lashings of punch and wine for the ladies, ', 'potatoes and cakes; there was bacon and tea, ', 'there were the nolans, dolans, ogradys ', 'courting the girls and dancing away. ', 'songs they went round as plenty as water, ', 'the harp that once sounded in taras old hall,', 'sweet nelly gray and the rat catchers daughter,', 'all singing together at lanigans ball. ', 'they were doing all kinds of nonsensical polkas ', 'all round the room in a whirligig. ', 'julia and i, we banished their nonsense ', 'and tipped them the twist of a reel and a jig. ', 'ach mavrone, how the girls got all mad at me ', 'danced til youd think the ceiling would fall. ', 'for i spent three weeks at brooks academy ', 'learning new steps for lanigans ball. ', 'three long weeks i spent up in dublin, ', 'three long weeks to learn nothing at all,', ' three long weeks i spent up in dublin, ', 'learning new steps for lanigans ball. ', 'she stepped out and i stepped in again, ', 'i stepped out and she stepped in again, ', 'she stepped out and i stepped in again, ', 'learning new steps for lanigans ball. ', 'boys were all merry and the girls they were hearty ', 'and danced all around in couples and groups, ', 'til an accident happened, young terrance mccarthy ', 'put his right leg through miss finnertys hoops. ', 'poor creature fainted and cried meelia murther, ', 'called for her brothers and gathered them all. ', 'carmody swore that hed go no further ', 'til he had satisfaction at lanigans ball. ', 'in the midst of the row miss kerrigan fainted, ', 'her cheeks at the same time as red as a rose. ', 'some of the lads declared she was painted, ', 'she took a small drop too much, i suppose. ', 'her sweetheart, ned morgan, so powerful and able, ', 'when he saw his fair colleen stretched out by the wall, ', 'tore the left leg from under the table ', 'and smashed all the chaneys at lanigans ball. ', 'boys, oh boys, twas then there were runctions. ', 'myself got a lick from big phelim mchugh. ', 'i soon replied to his introduction ', 'and kicked up a terrible hullabaloo. ', 'old casey, the piper, was near being strangled. ', 'they squeezed up his pipes, bellows, chanters and all. ', 'the girls, in their ribbons, they got all entangled ', 'and that put an end to lanigans ball.']\n"
          ],
          "name": "stdout"
        }
      ]
    },
    {
      "cell_type": "code",
      "metadata": {
        "id": "4HDyHNKCLElH",
        "colab_type": "code",
        "colab": {}
      },
      "source": [
        "from tensorflow.keras.preprocessing.text import Tokenizer\n",
        "from tensorflow.keras.preprocessing.sequence import pad_sequences"
      ],
      "execution_count": 5,
      "outputs": []
    },
    {
      "cell_type": "code",
      "metadata": {
        "id": "vl4XOAILLhJ-",
        "colab_type": "code",
        "colab": {}
      },
      "source": [
        "token = Tokenizer()"
      ],
      "execution_count": 6,
      "outputs": []
    },
    {
      "cell_type": "code",
      "metadata": {
        "id": "9wB3lifFMMCC",
        "colab_type": "code",
        "colab": {}
      },
      "source": [
        "token.fit_on_texts(sentences)"
      ],
      "execution_count": 7,
      "outputs": []
    },
    {
      "cell_type": "code",
      "metadata": {
        "id": "uF4AtLwKOvcq",
        "colab_type": "code",
        "colab": {
          "base_uri": "https://localhost:8080/",
          "height": 34
        },
        "outputId": "68ee86a9-0a24-49e6-da2a-9a4101313833"
      },
      "source": [
        "len(token.word_index)"
      ],
      "execution_count": 8,
      "outputs": [
        {
          "output_type": "execute_result",
          "data": {
            "text/plain": [
              "262"
            ]
          },
          "metadata": {
            "tags": []
          },
          "execution_count": 8
        }
      ]
    },
    {
      "cell_type": "code",
      "metadata": {
        "id": "VWwIVeCTMQaj",
        "colab_type": "code",
        "colab": {}
      },
      "source": [
        "sequences  = token.texts_to_sequences(sentences)"
      ],
      "execution_count": 9,
      "outputs": []
    },
    {
      "cell_type": "code",
      "metadata": {
        "id": "CvsYm2QAMrYG",
        "colab_type": "code",
        "colab": {
          "base_uri": "https://localhost:8080/",
          "height": 85
        },
        "outputId": "1d3e3705-8bc9-4a85-d0a8-bc9915fe78b3"
      },
      "source": [
        "sequences[0:4]"
      ],
      "execution_count": 10,
      "outputs": [
        {
          "output_type": "execute_result",
          "data": {
            "text/plain": [
              "[[4, 2, 66, 8, 67, 68, 69, 70],\n",
              " [71, 40, 20, 21, 72, 3, 73],\n",
              " [16, 74, 75, 1, 76, 33, 3, 77, 22],\n",
              " [41, 33, 3, 78, 1, 79, 80, 8, 81]]"
            ]
          },
          "metadata": {
            "tags": []
          },
          "execution_count": 10
        }
      ]
    },
    {
      "cell_type": "code",
      "metadata": {
        "id": "jt8DqOp_MtMV",
        "colab_type": "code",
        "colab": {}
      },
      "source": [
        "input_sequences = []\n",
        "\n",
        "for each_sequence in sequences:\n",
        "  for i in range(1, len(each_sequence)):\n",
        "    input_sequences.append(each_sequence[0:i+1])\n"
      ],
      "execution_count": 11,
      "outputs": []
    },
    {
      "cell_type": "code",
      "metadata": {
        "id": "ga0lym4KSRFO",
        "colab_type": "code",
        "colab": {
          "base_uri": "https://localhost:8080/",
          "height": 34
        },
        "outputId": "da14e2a8-c1fc-410f-f0ce-9de16f581301"
      },
      "source": [
        "a = [ len(x) for x in input_sequences]\n",
        "maxlength = max(a)\n",
        "maxlength"
      ],
      "execution_count": 12,
      "outputs": [
        {
          "output_type": "execute_result",
          "data": {
            "text/plain": [
              "11"
            ]
          },
          "metadata": {
            "tags": []
          },
          "execution_count": 12
        }
      ]
    },
    {
      "cell_type": "code",
      "metadata": {
        "id": "VwL-zsSUOttF",
        "colab_type": "code",
        "colab": {}
      },
      "source": [
        "padded_input_sequences = np.array(pad_sequences(input_sequences, maxlen=maxlength, padding='pre'))"
      ],
      "execution_count": 13,
      "outputs": []
    },
    {
      "cell_type": "code",
      "metadata": {
        "id": "upvfZHOAVx5k",
        "colab_type": "code",
        "colab": {
          "base_uri": "https://localhost:8080/",
          "height": 187
        },
        "outputId": "e4e52c0c-c332-485f-a7a7-92896f588561"
      },
      "source": [
        "padded_input_sequences[0:10]"
      ],
      "execution_count": 14,
      "outputs": [
        {
          "output_type": "execute_result",
          "data": {
            "text/plain": [
              "array([[ 0,  0,  0,  0,  0,  0,  0,  0,  0,  4,  2],\n",
              "       [ 0,  0,  0,  0,  0,  0,  0,  0,  4,  2, 66],\n",
              "       [ 0,  0,  0,  0,  0,  0,  0,  4,  2, 66,  8],\n",
              "       [ 0,  0,  0,  0,  0,  0,  4,  2, 66,  8, 67],\n",
              "       [ 0,  0,  0,  0,  0,  4,  2, 66,  8, 67, 68],\n",
              "       [ 0,  0,  0,  0,  4,  2, 66,  8, 67, 68, 69],\n",
              "       [ 0,  0,  0,  4,  2, 66,  8, 67, 68, 69, 70],\n",
              "       [ 0,  0,  0,  0,  0,  0,  0,  0,  0, 71, 40],\n",
              "       [ 0,  0,  0,  0,  0,  0,  0,  0, 71, 40, 20],\n",
              "       [ 0,  0,  0,  0,  0,  0,  0, 71, 40, 20, 21]], dtype=int32)"
            ]
          },
          "metadata": {
            "tags": []
          },
          "execution_count": 14
        }
      ]
    },
    {
      "cell_type": "code",
      "metadata": {
        "id": "FlF324G-RYKP",
        "colab_type": "code",
        "colab": {}
      },
      "source": [
        "x = padded_input_sequences[ : , : -1]"
      ],
      "execution_count": 15,
      "outputs": []
    },
    {
      "cell_type": "code",
      "metadata": {
        "id": "uXsrls_2UIva",
        "colab_type": "code",
        "colab": {}
      },
      "source": [
        "labels = padded_input_sequences[: , -1]"
      ],
      "execution_count": 16,
      "outputs": []
    },
    {
      "cell_type": "code",
      "metadata": {
        "id": "irardJqKVHSH",
        "colab_type": "code",
        "colab": {
          "base_uri": "https://localhost:8080/",
          "height": 34
        },
        "outputId": "53cc54a0-689f-4824-89e0-d885c8a79abc"
      },
      "source": [
        "x.shape"
      ],
      "execution_count": 17,
      "outputs": [
        {
          "output_type": "execute_result",
          "data": {
            "text/plain": [
              "(453, 10)"
            ]
          },
          "metadata": {
            "tags": []
          },
          "execution_count": 17
        }
      ]
    },
    {
      "cell_type": "code",
      "metadata": {
        "id": "EL1MtBOOU492",
        "colab_type": "code",
        "colab": {
          "base_uri": "https://localhost:8080/",
          "height": 34
        },
        "outputId": "a0df6c17-6ac1-4860-c396-b37957d1bcbf"
      },
      "source": [
        "labels.shape"
      ],
      "execution_count": 18,
      "outputs": [
        {
          "output_type": "execute_result",
          "data": {
            "text/plain": [
              "(453,)"
            ]
          },
          "metadata": {
            "tags": []
          },
          "execution_count": 18
        }
      ]
    },
    {
      "cell_type": "code",
      "metadata": {
        "id": "LU568CHhVA38",
        "colab_type": "code",
        "colab": {}
      },
      "source": [
        "from tensorflow.keras.utils import to_categorical"
      ],
      "execution_count": 19,
      "outputs": []
    },
    {
      "cell_type": "code",
      "metadata": {
        "id": "UNDbxkOtVZAw",
        "colab_type": "code",
        "colab": {}
      },
      "source": [
        "y = to_categorical(labels )"
      ],
      "execution_count": 20,
      "outputs": []
    },
    {
      "cell_type": "code",
      "metadata": {
        "id": "PtG_G4DDVqJS",
        "colab_type": "code",
        "colab": {
          "base_uri": "https://localhost:8080/",
          "height": 289
        },
        "outputId": "f716b560-0fb7-48c1-a9aa-ee8549484b64"
      },
      "source": [
        "y[3]"
      ],
      "execution_count": 21,
      "outputs": [
        {
          "output_type": "execute_result",
          "data": {
            "text/plain": [
              "array([0., 0., 0., 0., 0., 0., 0., 0., 0., 0., 0., 0., 0., 0., 0., 0., 0.,\n",
              "       0., 0., 0., 0., 0., 0., 0., 0., 0., 0., 0., 0., 0., 0., 0., 0., 0.,\n",
              "       0., 0., 0., 0., 0., 0., 0., 0., 0., 0., 0., 0., 0., 0., 0., 0., 0.,\n",
              "       0., 0., 0., 0., 0., 0., 0., 0., 0., 0., 0., 0., 0., 0., 0., 0., 1.,\n",
              "       0., 0., 0., 0., 0., 0., 0., 0., 0., 0., 0., 0., 0., 0., 0., 0., 0.,\n",
              "       0., 0., 0., 0., 0., 0., 0., 0., 0., 0., 0., 0., 0., 0., 0., 0., 0.,\n",
              "       0., 0., 0., 0., 0., 0., 0., 0., 0., 0., 0., 0., 0., 0., 0., 0., 0.,\n",
              "       0., 0., 0., 0., 0., 0., 0., 0., 0., 0., 0., 0., 0., 0., 0., 0., 0.,\n",
              "       0., 0., 0., 0., 0., 0., 0., 0., 0., 0., 0., 0., 0., 0., 0., 0., 0.,\n",
              "       0., 0., 0., 0., 0., 0., 0., 0., 0., 0., 0., 0., 0., 0., 0., 0., 0.,\n",
              "       0., 0., 0., 0., 0., 0., 0., 0., 0., 0., 0., 0., 0., 0., 0., 0., 0.,\n",
              "       0., 0., 0., 0., 0., 0., 0., 0., 0., 0., 0., 0., 0., 0., 0., 0., 0.,\n",
              "       0., 0., 0., 0., 0., 0., 0., 0., 0., 0., 0., 0., 0., 0., 0., 0., 0.,\n",
              "       0., 0., 0., 0., 0., 0., 0., 0., 0., 0., 0., 0., 0., 0., 0., 0., 0.,\n",
              "       0., 0., 0., 0., 0., 0., 0., 0., 0., 0., 0., 0., 0., 0., 0., 0., 0.,\n",
              "       0., 0., 0., 0., 0., 0., 0., 0.], dtype=float32)"
            ]
          },
          "metadata": {
            "tags": []
          },
          "execution_count": 21
        }
      ]
    },
    {
      "cell_type": "code",
      "metadata": {
        "id": "sRWsW7wvVqje",
        "colab_type": "code",
        "colab": {
          "base_uri": "https://localhost:8080/",
          "height": 34
        },
        "outputId": "ec856fe7-d1cf-4893-c43a-b0cdb099681c"
      },
      "source": [
        "y.shape"
      ],
      "execution_count": 22,
      "outputs": [
        {
          "output_type": "execute_result",
          "data": {
            "text/plain": [
              "(453, 263)"
            ]
          },
          "metadata": {
            "tags": []
          },
          "execution_count": 22
        }
      ]
    },
    {
      "cell_type": "markdown",
      "metadata": {
        "id": "60OT2eVeuLO8",
        "colab_type": "text"
      },
      "source": [
        "## Building the Model"
      ]
    },
    {
      "cell_type": "code",
      "metadata": {
        "id": "Uxo9m1DiV4cr",
        "colab_type": "code",
        "colab": {}
      },
      "source": [
        "from tensorflow.keras.models import Sequential\n",
        "from tensorflow.keras.layers import Dense, Embedding, Flatten, GlobalAveragePooling1D, GlobalAvgPool1D, BatchNormalization, Dropout, Bidirectional,LSTM"
      ],
      "execution_count": 23,
      "outputs": []
    },
    {
      "cell_type": "code",
      "metadata": {
        "id": "dZjKcr5fXJi8",
        "colab_type": "code",
        "colab": {}
      },
      "source": [
        "model = Sequential()\n",
        "model.add(Embedding( 263 ,64, input_length=maxlength-1))\n",
        "model.add(Bidirectional(LSTM(20)))\n",
        "model.add(Dense(263, activation='softmax'))"
      ],
      "execution_count": 24,
      "outputs": []
    },
    {
      "cell_type": "code",
      "metadata": {
        "id": "zsTdcw9EvHwS",
        "colab_type": "code",
        "colab": {
          "base_uri": "https://localhost:8080/",
          "height": 255
        },
        "outputId": "5c2afa85-70c3-4095-dee3-3ef5f4a77156"
      },
      "source": [
        "model.summary()"
      ],
      "execution_count": 39,
      "outputs": [
        {
          "output_type": "stream",
          "text": [
            "Model: \"sequential\"\n",
            "_________________________________________________________________\n",
            "Layer (type)                 Output Shape              Param #   \n",
            "=================================================================\n",
            "embedding (Embedding)        (None, 10, 64)            16832     \n",
            "_________________________________________________________________\n",
            "bidirectional (Bidirectional (None, 40)                13600     \n",
            "_________________________________________________________________\n",
            "dense (Dense)                (None, 263)               10783     \n",
            "=================================================================\n",
            "Total params: 41,215\n",
            "Trainable params: 41,215\n",
            "Non-trainable params: 0\n",
            "_________________________________________________________________\n"
          ],
          "name": "stdout"
        }
      ]
    },
    {
      "cell_type": "code",
      "metadata": {
        "id": "3JiFxRKdcJNY",
        "colab_type": "code",
        "colab": {}
      },
      "source": [
        "model.compile(optimizer='Adam', loss='categorical_crossentropy', metrics=['accuracy'])"
      ],
      "execution_count": 25,
      "outputs": []
    },
    {
      "cell_type": "code",
      "metadata": {
        "id": "LJxdW5s6cTh2",
        "colab_type": "code",
        "colab": {
          "base_uri": "https://localhost:8080/",
          "height": 1000
        },
        "outputId": "a2f48452-0944-4cec-e4af-2ce8a4704fd9"
      },
      "source": [
        "history = model.fit(x, y, epochs=500)"
      ],
      "execution_count": 26,
      "outputs": [
        {
          "output_type": "stream",
          "text": [
            "Epoch 1/500\n",
            "15/15 [==============================] - 0s 9ms/step - loss: 5.5685 - accuracy: 0.0066\n",
            "Epoch 2/500\n",
            "15/15 [==============================] - 0s 9ms/step - loss: 5.5445 - accuracy: 0.0508\n",
            "Epoch 3/500\n",
            "15/15 [==============================] - 0s 9ms/step - loss: 5.4840 - accuracy: 0.0486\n",
            "Epoch 4/500\n",
            "15/15 [==============================] - 0s 9ms/step - loss: 5.2960 - accuracy: 0.0486\n",
            "Epoch 5/500\n",
            "15/15 [==============================] - 0s 9ms/step - loss: 5.1310 - accuracy: 0.0486\n",
            "Epoch 6/500\n",
            "15/15 [==============================] - 0s 9ms/step - loss: 5.0677 - accuracy: 0.0486\n",
            "Epoch 7/500\n",
            "15/15 [==============================] - 0s 9ms/step - loss: 5.0246 - accuracy: 0.0552\n",
            "Epoch 8/500\n",
            "15/15 [==============================] - 0s 9ms/step - loss: 4.9881 - accuracy: 0.0552\n",
            "Epoch 9/500\n",
            "15/15 [==============================] - 0s 9ms/step - loss: 4.9540 - accuracy: 0.0596\n",
            "Epoch 10/500\n",
            "15/15 [==============================] - 0s 9ms/step - loss: 4.9148 - accuracy: 0.0552\n",
            "Epoch 11/500\n",
            "15/15 [==============================] - 0s 9ms/step - loss: 4.8762 - accuracy: 0.0640\n",
            "Epoch 12/500\n",
            "15/15 [==============================] - 0s 11ms/step - loss: 4.8308 - accuracy: 0.0574\n",
            "Epoch 13/500\n",
            "15/15 [==============================] - 0s 9ms/step - loss: 4.7839 - accuracy: 0.0552\n",
            "Epoch 14/500\n",
            "15/15 [==============================] - 0s 9ms/step - loss: 4.7332 - accuracy: 0.0552\n",
            "Epoch 15/500\n",
            "15/15 [==============================] - 0s 9ms/step - loss: 4.6863 - accuracy: 0.0662\n",
            "Epoch 16/500\n",
            "15/15 [==============================] - 0s 9ms/step - loss: 4.6366 - accuracy: 0.0662\n",
            "Epoch 17/500\n",
            "15/15 [==============================] - 0s 9ms/step - loss: 4.5912 - accuracy: 0.0795\n",
            "Epoch 18/500\n",
            "15/15 [==============================] - 0s 9ms/step - loss: 4.5540 - accuracy: 0.0773\n",
            "Epoch 19/500\n",
            "15/15 [==============================] - 0s 9ms/step - loss: 4.5236 - accuracy: 0.0817\n",
            "Epoch 20/500\n",
            "15/15 [==============================] - 0s 9ms/step - loss: 4.4847 - accuracy: 0.1104\n",
            "Epoch 21/500\n",
            "15/15 [==============================] - 0s 9ms/step - loss: 4.4462 - accuracy: 0.1015\n",
            "Epoch 22/500\n",
            "15/15 [==============================] - 0s 8ms/step - loss: 4.4116 - accuracy: 0.1015\n",
            "Epoch 23/500\n",
            "15/15 [==============================] - 0s 9ms/step - loss: 4.3738 - accuracy: 0.1082\n",
            "Epoch 24/500\n",
            "15/15 [==============================] - 0s 9ms/step - loss: 4.3384 - accuracy: 0.1104\n",
            "Epoch 25/500\n",
            "15/15 [==============================] - 0s 9ms/step - loss: 4.3108 - accuracy: 0.1104\n",
            "Epoch 26/500\n",
            "15/15 [==============================] - 0s 9ms/step - loss: 4.2736 - accuracy: 0.1060\n",
            "Epoch 27/500\n",
            "15/15 [==============================] - 0s 9ms/step - loss: 4.2379 - accuracy: 0.1170\n",
            "Epoch 28/500\n",
            "15/15 [==============================] - 0s 9ms/step - loss: 4.2021 - accuracy: 0.1258\n",
            "Epoch 29/500\n",
            "15/15 [==============================] - 0s 9ms/step - loss: 4.1703 - accuracy: 0.1258\n",
            "Epoch 30/500\n",
            "15/15 [==============================] - 0s 9ms/step - loss: 4.1462 - accuracy: 0.1214\n",
            "Epoch 31/500\n",
            "15/15 [==============================] - 0s 9ms/step - loss: 4.1143 - accuracy: 0.1347\n",
            "Epoch 32/500\n",
            "15/15 [==============================] - 0s 9ms/step - loss: 4.0789 - accuracy: 0.1347\n",
            "Epoch 33/500\n",
            "15/15 [==============================] - 0s 8ms/step - loss: 4.0309 - accuracy: 0.1391\n",
            "Epoch 34/500\n",
            "15/15 [==============================] - 0s 8ms/step - loss: 3.9971 - accuracy: 0.1325\n",
            "Epoch 35/500\n",
            "15/15 [==============================] - 0s 9ms/step - loss: 3.9591 - accuracy: 0.1325\n",
            "Epoch 36/500\n",
            "15/15 [==============================] - 0s 9ms/step - loss: 3.9380 - accuracy: 0.1413\n",
            "Epoch 37/500\n",
            "15/15 [==============================] - 0s 9ms/step - loss: 3.8936 - accuracy: 0.1435\n",
            "Epoch 38/500\n",
            "15/15 [==============================] - 0s 9ms/step - loss: 3.8598 - accuracy: 0.1457\n",
            "Epoch 39/500\n",
            "15/15 [==============================] - 0s 8ms/step - loss: 3.8223 - accuracy: 0.1567\n",
            "Epoch 40/500\n",
            "15/15 [==============================] - 0s 9ms/step - loss: 3.7831 - accuracy: 0.1810\n",
            "Epoch 41/500\n",
            "15/15 [==============================] - 0s 9ms/step - loss: 3.7607 - accuracy: 0.1921\n",
            "Epoch 42/500\n",
            "15/15 [==============================] - 0s 9ms/step - loss: 3.7230 - accuracy: 0.2053\n",
            "Epoch 43/500\n",
            "15/15 [==============================] - 0s 9ms/step - loss: 3.6838 - accuracy: 0.2031\n",
            "Epoch 44/500\n",
            "15/15 [==============================] - 0s 9ms/step - loss: 3.6473 - accuracy: 0.2053\n",
            "Epoch 45/500\n",
            "15/15 [==============================] - 0s 9ms/step - loss: 3.6147 - accuracy: 0.2163\n",
            "Epoch 46/500\n",
            "15/15 [==============================] - 0s 9ms/step - loss: 3.5796 - accuracy: 0.2274\n",
            "Epoch 47/500\n",
            "15/15 [==============================] - 0s 9ms/step - loss: 3.5698 - accuracy: 0.2274\n",
            "Epoch 48/500\n",
            "15/15 [==============================] - 0s 9ms/step - loss: 3.5337 - accuracy: 0.2230\n",
            "Epoch 49/500\n",
            "15/15 [==============================] - 0s 9ms/step - loss: 3.4974 - accuracy: 0.2274\n",
            "Epoch 50/500\n",
            "15/15 [==============================] - 0s 9ms/step - loss: 3.4752 - accuracy: 0.2428\n",
            "Epoch 51/500\n",
            "15/15 [==============================] - 0s 9ms/step - loss: 3.4412 - accuracy: 0.2362\n",
            "Epoch 52/500\n",
            "15/15 [==============================] - 0s 10ms/step - loss: 3.3928 - accuracy: 0.2605\n",
            "Epoch 53/500\n",
            "15/15 [==============================] - 0s 9ms/step - loss: 3.3535 - accuracy: 0.2737\n",
            "Epoch 54/500\n",
            "15/15 [==============================] - 0s 9ms/step - loss: 3.3263 - accuracy: 0.2826\n",
            "Epoch 55/500\n",
            "15/15 [==============================] - 0s 9ms/step - loss: 3.2971 - accuracy: 0.2848\n",
            "Epoch 56/500\n",
            "15/15 [==============================] - 0s 9ms/step - loss: 3.2628 - accuracy: 0.2737\n",
            "Epoch 57/500\n",
            "15/15 [==============================] - 0s 9ms/step - loss: 3.2413 - accuracy: 0.3002\n",
            "Epoch 58/500\n",
            "15/15 [==============================] - 0s 9ms/step - loss: 3.2085 - accuracy: 0.3002\n",
            "Epoch 59/500\n",
            "15/15 [==============================] - 0s 10ms/step - loss: 3.1744 - accuracy: 0.3068\n",
            "Epoch 60/500\n",
            "15/15 [==============================] - 0s 9ms/step - loss: 3.1435 - accuracy: 0.3135\n",
            "Epoch 61/500\n",
            "15/15 [==============================] - 0s 9ms/step - loss: 3.1112 - accuracy: 0.3091\n",
            "Epoch 62/500\n",
            "15/15 [==============================] - 0s 9ms/step - loss: 3.0721 - accuracy: 0.3267\n",
            "Epoch 63/500\n",
            "15/15 [==============================] - 0s 9ms/step - loss: 3.0648 - accuracy: 0.3267\n",
            "Epoch 64/500\n",
            "15/15 [==============================] - 0s 9ms/step - loss: 3.0249 - accuracy: 0.3444\n",
            "Epoch 65/500\n",
            "15/15 [==============================] - 0s 9ms/step - loss: 2.9967 - accuracy: 0.3598\n",
            "Epoch 66/500\n",
            "15/15 [==============================] - 0s 10ms/step - loss: 2.9674 - accuracy: 0.3554\n",
            "Epoch 67/500\n",
            "15/15 [==============================] - 0s 9ms/step - loss: 2.9384 - accuracy: 0.3642\n",
            "Epoch 68/500\n",
            "15/15 [==============================] - 0s 9ms/step - loss: 2.9035 - accuracy: 0.3841\n",
            "Epoch 69/500\n",
            "15/15 [==============================] - 0s 9ms/step - loss: 2.8817 - accuracy: 0.3841\n",
            "Epoch 70/500\n",
            "15/15 [==============================] - 0s 9ms/step - loss: 2.8576 - accuracy: 0.3951\n",
            "Epoch 71/500\n",
            "15/15 [==============================] - 0s 9ms/step - loss: 2.8217 - accuracy: 0.4172\n",
            "Epoch 72/500\n",
            "15/15 [==============================] - 0s 10ms/step - loss: 2.8153 - accuracy: 0.3929\n",
            "Epoch 73/500\n",
            "15/15 [==============================] - 0s 9ms/step - loss: 2.7901 - accuracy: 0.4283\n",
            "Epoch 74/500\n",
            "15/15 [==============================] - 0s 9ms/step - loss: 2.7649 - accuracy: 0.4172\n",
            "Epoch 75/500\n",
            "15/15 [==============================] - 0s 9ms/step - loss: 2.7202 - accuracy: 0.4327\n",
            "Epoch 76/500\n",
            "15/15 [==============================] - 0s 9ms/step - loss: 2.7046 - accuracy: 0.4349\n",
            "Epoch 77/500\n",
            "15/15 [==============================] - 0s 9ms/step - loss: 2.6949 - accuracy: 0.4415\n",
            "Epoch 78/500\n",
            "15/15 [==============================] - 0s 9ms/step - loss: 2.6656 - accuracy: 0.4415\n",
            "Epoch 79/500\n",
            "15/15 [==============================] - 0s 9ms/step - loss: 2.6384 - accuracy: 0.4570\n",
            "Epoch 80/500\n",
            "15/15 [==============================] - 0s 9ms/step - loss: 2.6162 - accuracy: 0.4658\n",
            "Epoch 81/500\n",
            "15/15 [==============================] - 0s 12ms/step - loss: 2.5810 - accuracy: 0.4768\n",
            "Epoch 82/500\n",
            "15/15 [==============================] - 0s 9ms/step - loss: 2.5587 - accuracy: 0.4746\n",
            "Epoch 83/500\n",
            "15/15 [==============================] - 0s 9ms/step - loss: 2.5373 - accuracy: 0.4768\n",
            "Epoch 84/500\n",
            "15/15 [==============================] - 0s 9ms/step - loss: 2.5337 - accuracy: 0.4724\n",
            "Epoch 85/500\n",
            "15/15 [==============================] - 0s 9ms/step - loss: 2.5144 - accuracy: 0.4768\n",
            "Epoch 86/500\n",
            "15/15 [==============================] - 0s 10ms/step - loss: 2.4862 - accuracy: 0.4901\n",
            "Epoch 87/500\n",
            "15/15 [==============================] - 0s 9ms/step - loss: 2.4857 - accuracy: 0.4879\n",
            "Epoch 88/500\n",
            "15/15 [==============================] - 0s 9ms/step - loss: 2.4517 - accuracy: 0.4989\n",
            "Epoch 89/500\n",
            "15/15 [==============================] - 0s 9ms/step - loss: 2.4100 - accuracy: 0.5099\n",
            "Epoch 90/500\n",
            "15/15 [==============================] - 0s 9ms/step - loss: 2.3845 - accuracy: 0.5188\n",
            "Epoch 91/500\n",
            "15/15 [==============================] - 0s 10ms/step - loss: 2.3601 - accuracy: 0.5232\n",
            "Epoch 92/500\n",
            "15/15 [==============================] - 0s 10ms/step - loss: 2.3339 - accuracy: 0.5254\n",
            "Epoch 93/500\n",
            "15/15 [==============================] - 0s 9ms/step - loss: 2.3130 - accuracy: 0.5453\n",
            "Epoch 94/500\n",
            "15/15 [==============================] - 0s 9ms/step - loss: 2.2991 - accuracy: 0.5475\n",
            "Epoch 95/500\n",
            "15/15 [==============================] - 0s 9ms/step - loss: 2.3037 - accuracy: 0.5408\n",
            "Epoch 96/500\n",
            "15/15 [==============================] - 0s 9ms/step - loss: 2.2942 - accuracy: 0.5497\n",
            "Epoch 97/500\n",
            "15/15 [==============================] - 0s 9ms/step - loss: 2.2748 - accuracy: 0.5563\n",
            "Epoch 98/500\n",
            "15/15 [==============================] - 0s 9ms/step - loss: 2.2590 - accuracy: 0.5541\n",
            "Epoch 99/500\n",
            "15/15 [==============================] - 0s 9ms/step - loss: 2.2099 - accuracy: 0.5651\n",
            "Epoch 100/500\n",
            "15/15 [==============================] - 0s 9ms/step - loss: 2.1829 - accuracy: 0.5784\n",
            "Epoch 101/500\n",
            "15/15 [==============================] - 0s 9ms/step - loss: 2.1517 - accuracy: 0.5850\n",
            "Epoch 102/500\n",
            "15/15 [==============================] - 0s 9ms/step - loss: 2.1323 - accuracy: 0.5828\n",
            "Epoch 103/500\n",
            "15/15 [==============================] - 0s 9ms/step - loss: 2.1147 - accuracy: 0.5938\n",
            "Epoch 104/500\n",
            "15/15 [==============================] - 0s 8ms/step - loss: 2.0932 - accuracy: 0.5960\n",
            "Epoch 105/500\n",
            "15/15 [==============================] - 0s 9ms/step - loss: 2.0727 - accuracy: 0.6071\n",
            "Epoch 106/500\n",
            "15/15 [==============================] - 0s 9ms/step - loss: 2.0552 - accuracy: 0.6115\n",
            "Epoch 107/500\n",
            "15/15 [==============================] - 0s 9ms/step - loss: 2.0332 - accuracy: 0.6071\n",
            "Epoch 108/500\n",
            "15/15 [==============================] - 0s 9ms/step - loss: 2.0111 - accuracy: 0.6247\n",
            "Epoch 109/500\n",
            "15/15 [==============================] - 0s 9ms/step - loss: 1.9886 - accuracy: 0.6291\n",
            "Epoch 110/500\n",
            "15/15 [==============================] - 0s 9ms/step - loss: 1.9743 - accuracy: 0.6358\n",
            "Epoch 111/500\n",
            "15/15 [==============================] - 0s 9ms/step - loss: 1.9584 - accuracy: 0.6424\n",
            "Epoch 112/500\n",
            "15/15 [==============================] - 0s 9ms/step - loss: 1.9545 - accuracy: 0.6336\n",
            "Epoch 113/500\n",
            "15/15 [==============================] - 0s 10ms/step - loss: 1.9314 - accuracy: 0.6380\n",
            "Epoch 114/500\n",
            "15/15 [==============================] - 0s 8ms/step - loss: 1.9053 - accuracy: 0.6446\n",
            "Epoch 115/500\n",
            "15/15 [==============================] - 0s 8ms/step - loss: 1.8930 - accuracy: 0.6578\n",
            "Epoch 116/500\n",
            "15/15 [==============================] - 0s 9ms/step - loss: 1.8737 - accuracy: 0.6578\n",
            "Epoch 117/500\n",
            "15/15 [==============================] - 0s 8ms/step - loss: 1.8436 - accuracy: 0.6711\n",
            "Epoch 118/500\n",
            "15/15 [==============================] - 0s 8ms/step - loss: 1.8262 - accuracy: 0.6777\n",
            "Epoch 119/500\n",
            "15/15 [==============================] - 0s 9ms/step - loss: 1.8029 - accuracy: 0.6909\n",
            "Epoch 120/500\n",
            "15/15 [==============================] - 0s 9ms/step - loss: 1.7845 - accuracy: 0.6954\n",
            "Epoch 121/500\n",
            "15/15 [==============================] - 0s 8ms/step - loss: 1.7689 - accuracy: 0.7064\n",
            "Epoch 122/500\n",
            "15/15 [==============================] - 0s 9ms/step - loss: 1.7530 - accuracy: 0.7064\n",
            "Epoch 123/500\n",
            "15/15 [==============================] - 0s 8ms/step - loss: 1.7375 - accuracy: 0.6976\n",
            "Epoch 124/500\n",
            "15/15 [==============================] - 0s 8ms/step - loss: 1.7227 - accuracy: 0.7108\n",
            "Epoch 125/500\n",
            "15/15 [==============================] - 0s 9ms/step - loss: 1.7041 - accuracy: 0.7285\n",
            "Epoch 126/500\n",
            "15/15 [==============================] - 0s 8ms/step - loss: 1.6864 - accuracy: 0.7196\n",
            "Epoch 127/500\n",
            "15/15 [==============================] - 0s 10ms/step - loss: 1.6735 - accuracy: 0.7285\n",
            "Epoch 128/500\n",
            "15/15 [==============================] - 0s 8ms/step - loss: 1.6623 - accuracy: 0.7263\n",
            "Epoch 129/500\n",
            "15/15 [==============================] - 0s 8ms/step - loss: 1.6477 - accuracy: 0.7263\n",
            "Epoch 130/500\n",
            "15/15 [==============================] - 0s 8ms/step - loss: 1.6336 - accuracy: 0.7483\n",
            "Epoch 131/500\n",
            "15/15 [==============================] - 0s 8ms/step - loss: 1.6300 - accuracy: 0.7351\n",
            "Epoch 132/500\n",
            "15/15 [==============================] - 0s 8ms/step - loss: 1.6292 - accuracy: 0.7329\n",
            "Epoch 133/500\n",
            "15/15 [==============================] - 0s 9ms/step - loss: 1.6239 - accuracy: 0.7307\n",
            "Epoch 134/500\n",
            "15/15 [==============================] - 0s 9ms/step - loss: 1.5919 - accuracy: 0.7417\n",
            "Epoch 135/500\n",
            "15/15 [==============================] - 0s 9ms/step - loss: 1.5663 - accuracy: 0.7550\n",
            "Epoch 136/500\n",
            "15/15 [==============================] - 0s 8ms/step - loss: 1.5562 - accuracy: 0.7682\n",
            "Epoch 137/500\n",
            "15/15 [==============================] - 0s 8ms/step - loss: 1.5327 - accuracy: 0.7792\n",
            "Epoch 138/500\n",
            "15/15 [==============================] - 0s 8ms/step - loss: 1.5333 - accuracy: 0.7770\n",
            "Epoch 139/500\n",
            "15/15 [==============================] - 0s 8ms/step - loss: 1.5043 - accuracy: 0.7748\n",
            "Epoch 140/500\n",
            "15/15 [==============================] - 0s 9ms/step - loss: 1.4886 - accuracy: 0.7859\n",
            "Epoch 141/500\n",
            "15/15 [==============================] - 0s 9ms/step - loss: 1.4642 - accuracy: 0.7837\n",
            "Epoch 142/500\n",
            "15/15 [==============================] - 0s 8ms/step - loss: 1.4428 - accuracy: 0.7925\n",
            "Epoch 143/500\n",
            "15/15 [==============================] - 0s 8ms/step - loss: 1.4416 - accuracy: 0.7881\n",
            "Epoch 144/500\n",
            "15/15 [==============================] - 0s 9ms/step - loss: 1.4258 - accuracy: 0.7947\n",
            "Epoch 145/500\n",
            "15/15 [==============================] - 0s 8ms/step - loss: 1.4047 - accuracy: 0.7947\n",
            "Epoch 146/500\n",
            "15/15 [==============================] - 0s 8ms/step - loss: 1.3818 - accuracy: 0.8013\n",
            "Epoch 147/500\n",
            "15/15 [==============================] - 0s 8ms/step - loss: 1.3680 - accuracy: 0.8035\n",
            "Epoch 148/500\n",
            "15/15 [==============================] - 0s 9ms/step - loss: 1.3499 - accuracy: 0.8124\n",
            "Epoch 149/500\n",
            "15/15 [==============================] - 0s 8ms/step - loss: 1.3351 - accuracy: 0.8124\n",
            "Epoch 150/500\n",
            "15/15 [==============================] - 0s 8ms/step - loss: 1.3203 - accuracy: 0.8124\n",
            "Epoch 151/500\n",
            "15/15 [==============================] - 0s 10ms/step - loss: 1.3081 - accuracy: 0.8256\n",
            "Epoch 152/500\n",
            "15/15 [==============================] - 0s 8ms/step - loss: 1.2948 - accuracy: 0.8190\n",
            "Epoch 153/500\n",
            "15/15 [==============================] - 0s 8ms/step - loss: 1.2805 - accuracy: 0.8256\n",
            "Epoch 154/500\n",
            "15/15 [==============================] - 0s 9ms/step - loss: 1.2682 - accuracy: 0.8366\n",
            "Epoch 155/500\n",
            "15/15 [==============================] - 0s 9ms/step - loss: 1.2579 - accuracy: 0.8366\n",
            "Epoch 156/500\n",
            "15/15 [==============================] - 0s 8ms/step - loss: 1.3552 - accuracy: 0.7969\n",
            "Epoch 157/500\n",
            "15/15 [==============================] - 0s 9ms/step - loss: 1.4029 - accuracy: 0.7506\n",
            "Epoch 158/500\n",
            "15/15 [==============================] - 0s 8ms/step - loss: 1.3640 - accuracy: 0.7770\n",
            "Epoch 159/500\n",
            "15/15 [==============================] - 0s 9ms/step - loss: 1.3274 - accuracy: 0.7837\n",
            "Epoch 160/500\n",
            "15/15 [==============================] - 0s 8ms/step - loss: 1.2746 - accuracy: 0.8190\n",
            "Epoch 161/500\n",
            "15/15 [==============================] - 0s 9ms/step - loss: 1.2595 - accuracy: 0.8256\n",
            "Epoch 162/500\n",
            "15/15 [==============================] - 0s 8ms/step - loss: 1.2335 - accuracy: 0.8300\n",
            "Epoch 163/500\n",
            "15/15 [==============================] - 0s 9ms/step - loss: 1.2136 - accuracy: 0.8411\n",
            "Epoch 164/500\n",
            "15/15 [==============================] - 0s 8ms/step - loss: 1.1928 - accuracy: 0.8433\n",
            "Epoch 165/500\n",
            "15/15 [==============================] - 0s 8ms/step - loss: 1.1711 - accuracy: 0.8543\n",
            "Epoch 166/500\n",
            "15/15 [==============================] - 0s 8ms/step - loss: 1.1489 - accuracy: 0.8609\n",
            "Epoch 167/500\n",
            "15/15 [==============================] - 0s 8ms/step - loss: 1.1357 - accuracy: 0.8587\n",
            "Epoch 168/500\n",
            "15/15 [==============================] - 0s 8ms/step - loss: 1.1202 - accuracy: 0.8698\n",
            "Epoch 169/500\n",
            "15/15 [==============================] - 0s 9ms/step - loss: 1.1032 - accuracy: 0.8808\n",
            "Epoch 170/500\n",
            "15/15 [==============================] - 0s 9ms/step - loss: 1.0891 - accuracy: 0.8742\n",
            "Epoch 171/500\n",
            "15/15 [==============================] - 0s 9ms/step - loss: 1.0776 - accuracy: 0.8720\n",
            "Epoch 172/500\n",
            "15/15 [==============================] - 0s 9ms/step - loss: 1.0665 - accuracy: 0.8764\n",
            "Epoch 173/500\n",
            "15/15 [==============================] - 0s 8ms/step - loss: 1.0549 - accuracy: 0.8764\n",
            "Epoch 174/500\n",
            "15/15 [==============================] - 0s 8ms/step - loss: 1.0440 - accuracy: 0.8764\n",
            "Epoch 175/500\n",
            "15/15 [==============================] - 0s 8ms/step - loss: 1.0348 - accuracy: 0.8852\n",
            "Epoch 176/500\n",
            "15/15 [==============================] - 0s 8ms/step - loss: 1.0238 - accuracy: 0.8852\n",
            "Epoch 177/500\n",
            "15/15 [==============================] - 0s 9ms/step - loss: 1.0129 - accuracy: 0.8874\n",
            "Epoch 178/500\n",
            "15/15 [==============================] - 0s 8ms/step - loss: 1.0036 - accuracy: 0.8940\n",
            "Epoch 179/500\n",
            "15/15 [==============================] - 0s 8ms/step - loss: 0.9946 - accuracy: 0.8830\n",
            "Epoch 180/500\n",
            "15/15 [==============================] - 0s 9ms/step - loss: 0.9814 - accuracy: 0.8962\n",
            "Epoch 181/500\n",
            "15/15 [==============================] - 0s 9ms/step - loss: 0.9718 - accuracy: 0.9073\n",
            "Epoch 182/500\n",
            "15/15 [==============================] - 0s 8ms/step - loss: 0.9611 - accuracy: 0.9051\n",
            "Epoch 183/500\n",
            "15/15 [==============================] - 0s 8ms/step - loss: 0.9549 - accuracy: 0.9029\n",
            "Epoch 184/500\n",
            "15/15 [==============================] - 0s 10ms/step - loss: 0.9436 - accuracy: 0.9007\n",
            "Epoch 185/500\n",
            "15/15 [==============================] - 0s 8ms/step - loss: 0.9395 - accuracy: 0.9029\n",
            "Epoch 186/500\n",
            "15/15 [==============================] - 0s 8ms/step - loss: 0.9268 - accuracy: 0.8985\n",
            "Epoch 187/500\n",
            "15/15 [==============================] - 0s 8ms/step - loss: 0.9166 - accuracy: 0.9029\n",
            "Epoch 188/500\n",
            "15/15 [==============================] - 0s 9ms/step - loss: 0.9054 - accuracy: 0.9051\n",
            "Epoch 189/500\n",
            "15/15 [==============================] - 0s 9ms/step - loss: 0.8943 - accuracy: 0.9051\n",
            "Epoch 190/500\n",
            "15/15 [==============================] - 0s 9ms/step - loss: 0.8859 - accuracy: 0.9051\n",
            "Epoch 191/500\n",
            "15/15 [==============================] - 0s 9ms/step - loss: 0.8787 - accuracy: 0.9073\n",
            "Epoch 192/500\n",
            "15/15 [==============================] - 0s 9ms/step - loss: 0.8704 - accuracy: 0.9051\n",
            "Epoch 193/500\n",
            "15/15 [==============================] - 0s 8ms/step - loss: 0.8631 - accuracy: 0.9007\n",
            "Epoch 194/500\n",
            "15/15 [==============================] - 0s 9ms/step - loss: 0.8548 - accuracy: 0.9051\n",
            "Epoch 195/500\n",
            "15/15 [==============================] - 0s 8ms/step - loss: 0.8487 - accuracy: 0.9073\n",
            "Epoch 196/500\n",
            "15/15 [==============================] - 0s 9ms/step - loss: 0.8470 - accuracy: 0.9073\n",
            "Epoch 197/500\n",
            "15/15 [==============================] - 0s 9ms/step - loss: 0.8475 - accuracy: 0.8985\n",
            "Epoch 198/500\n",
            "15/15 [==============================] - 0s 10ms/step - loss: 0.8269 - accuracy: 0.9007\n",
            "Epoch 199/500\n",
            "15/15 [==============================] - 0s 9ms/step - loss: 0.8154 - accuracy: 0.9073\n",
            "Epoch 200/500\n",
            "15/15 [==============================] - 0s 9ms/step - loss: 0.8082 - accuracy: 0.9073\n",
            "Epoch 201/500\n",
            "15/15 [==============================] - 0s 9ms/step - loss: 0.8067 - accuracy: 0.9073\n",
            "Epoch 202/500\n",
            "15/15 [==============================] - 0s 9ms/step - loss: 0.7942 - accuracy: 0.9161\n",
            "Epoch 203/500\n",
            "15/15 [==============================] - 0s 8ms/step - loss: 0.7830 - accuracy: 0.9139\n",
            "Epoch 204/500\n",
            "15/15 [==============================] - 0s 9ms/step - loss: 0.7811 - accuracy: 0.9139\n",
            "Epoch 205/500\n",
            "15/15 [==============================] - 0s 9ms/step - loss: 0.7717 - accuracy: 0.9161\n",
            "Epoch 206/500\n",
            "15/15 [==============================] - 0s 8ms/step - loss: 0.7638 - accuracy: 0.9227\n",
            "Epoch 207/500\n",
            "15/15 [==============================] - 0s 8ms/step - loss: 0.7506 - accuracy: 0.9183\n",
            "Epoch 208/500\n",
            "15/15 [==============================] - 0s 9ms/step - loss: 0.7431 - accuracy: 0.9205\n",
            "Epoch 209/500\n",
            "15/15 [==============================] - 0s 9ms/step - loss: 0.7364 - accuracy: 0.9205\n",
            "Epoch 210/500\n",
            "15/15 [==============================] - 0s 8ms/step - loss: 0.7273 - accuracy: 0.9249\n",
            "Epoch 211/500\n",
            "15/15 [==============================] - 0s 9ms/step - loss: 0.7203 - accuracy: 0.9227\n",
            "Epoch 212/500\n",
            "15/15 [==============================] - 0s 9ms/step - loss: 0.7223 - accuracy: 0.9183\n",
            "Epoch 213/500\n",
            "15/15 [==============================] - 0s 8ms/step - loss: 0.7143 - accuracy: 0.9205\n",
            "Epoch 214/500\n",
            "15/15 [==============================] - 0s 8ms/step - loss: 0.7085 - accuracy: 0.9205\n",
            "Epoch 215/500\n",
            "15/15 [==============================] - 0s 9ms/step - loss: 0.7001 - accuracy: 0.9183\n",
            "Epoch 216/500\n",
            "15/15 [==============================] - 0s 9ms/step - loss: 0.6914 - accuracy: 0.9183\n",
            "Epoch 217/500\n",
            "15/15 [==============================] - 0s 8ms/step - loss: 0.6815 - accuracy: 0.9139\n",
            "Epoch 218/500\n",
            "15/15 [==============================] - 0s 9ms/step - loss: 0.6734 - accuracy: 0.9205\n",
            "Epoch 219/500\n",
            "15/15 [==============================] - 0s 9ms/step - loss: 0.6669 - accuracy: 0.9272\n",
            "Epoch 220/500\n",
            "15/15 [==============================] - 0s 8ms/step - loss: 0.6610 - accuracy: 0.9249\n",
            "Epoch 221/500\n",
            "15/15 [==============================] - 0s 9ms/step - loss: 0.6544 - accuracy: 0.9272\n",
            "Epoch 222/500\n",
            "15/15 [==============================] - 0s 9ms/step - loss: 0.6509 - accuracy: 0.9294\n",
            "Epoch 223/500\n",
            "15/15 [==============================] - 0s 11ms/step - loss: 0.6455 - accuracy: 0.9272\n",
            "Epoch 224/500\n",
            "15/15 [==============================] - 0s 9ms/step - loss: 0.6407 - accuracy: 0.9272\n",
            "Epoch 225/500\n",
            "15/15 [==============================] - 0s 8ms/step - loss: 0.6370 - accuracy: 0.9316\n",
            "Epoch 226/500\n",
            "15/15 [==============================] - 0s 9ms/step - loss: 0.6391 - accuracy: 0.9249\n",
            "Epoch 227/500\n",
            "15/15 [==============================] - 0s 8ms/step - loss: 0.6446 - accuracy: 0.9227\n",
            "Epoch 228/500\n",
            "15/15 [==============================] - 0s 8ms/step - loss: 0.6485 - accuracy: 0.9183\n",
            "Epoch 229/500\n",
            "15/15 [==============================] - 0s 8ms/step - loss: 0.6866 - accuracy: 0.9007\n",
            "Epoch 230/500\n",
            "15/15 [==============================] - 0s 8ms/step - loss: 0.6562 - accuracy: 0.9139\n",
            "Epoch 231/500\n",
            "15/15 [==============================] - 0s 9ms/step - loss: 0.6349 - accuracy: 0.9183\n",
            "Epoch 232/500\n",
            "15/15 [==============================] - 0s 8ms/step - loss: 0.6294 - accuracy: 0.9183\n",
            "Epoch 233/500\n",
            "15/15 [==============================] - 0s 9ms/step - loss: 0.6123 - accuracy: 0.9205\n",
            "Epoch 234/500\n",
            "15/15 [==============================] - 0s 9ms/step - loss: 0.6017 - accuracy: 0.9316\n",
            "Epoch 235/500\n",
            "15/15 [==============================] - 0s 8ms/step - loss: 0.6037 - accuracy: 0.9272\n",
            "Epoch 236/500\n",
            "15/15 [==============================] - 0s 9ms/step - loss: 0.5948 - accuracy: 0.9249\n",
            "Epoch 237/500\n",
            "15/15 [==============================] - 0s 8ms/step - loss: 0.6101 - accuracy: 0.9205\n",
            "Epoch 238/500\n",
            "15/15 [==============================] - 0s 9ms/step - loss: 0.6078 - accuracy: 0.9161\n",
            "Epoch 239/500\n",
            "15/15 [==============================] - 0s 8ms/step - loss: 0.5886 - accuracy: 0.9316\n",
            "Epoch 240/500\n",
            "15/15 [==============================] - 0s 9ms/step - loss: 0.5746 - accuracy: 0.9272\n",
            "Epoch 241/500\n",
            "15/15 [==============================] - 0s 9ms/step - loss: 0.5764 - accuracy: 0.9294\n",
            "Epoch 242/500\n",
            "15/15 [==============================] - 0s 8ms/step - loss: 0.5834 - accuracy: 0.9227\n",
            "Epoch 243/500\n",
            "15/15 [==============================] - 0s 9ms/step - loss: 0.5621 - accuracy: 0.9294\n",
            "Epoch 244/500\n",
            "15/15 [==============================] - 0s 8ms/step - loss: 0.5746 - accuracy: 0.9249\n",
            "Epoch 245/500\n",
            "15/15 [==============================] - 0s 9ms/step - loss: 0.5621 - accuracy: 0.9249\n",
            "Epoch 246/500\n",
            "15/15 [==============================] - 0s 8ms/step - loss: 0.5557 - accuracy: 0.9249\n",
            "Epoch 247/500\n",
            "15/15 [==============================] - 0s 9ms/step - loss: 0.5319 - accuracy: 0.9316\n",
            "Epoch 248/500\n",
            "15/15 [==============================] - 0s 9ms/step - loss: 0.5199 - accuracy: 0.9382\n",
            "Epoch 249/500\n",
            "15/15 [==============================] - 0s 9ms/step - loss: 0.5128 - accuracy: 0.9382\n",
            "Epoch 250/500\n",
            "15/15 [==============================] - 0s 9ms/step - loss: 0.5061 - accuracy: 0.9360\n",
            "Epoch 251/500\n",
            "15/15 [==============================] - 0s 8ms/step - loss: 0.5019 - accuracy: 0.9360\n",
            "Epoch 252/500\n",
            "15/15 [==============================] - 0s 8ms/step - loss: 0.4969 - accuracy: 0.9360\n",
            "Epoch 253/500\n",
            "15/15 [==============================] - 0s 9ms/step - loss: 0.4921 - accuracy: 0.9338\n",
            "Epoch 254/500\n",
            "15/15 [==============================] - 0s 9ms/step - loss: 0.4911 - accuracy: 0.9382\n",
            "Epoch 255/500\n",
            "15/15 [==============================] - 0s 9ms/step - loss: 0.4844 - accuracy: 0.9360\n",
            "Epoch 256/500\n",
            "15/15 [==============================] - 0s 8ms/step - loss: 0.4797 - accuracy: 0.9382\n",
            "Epoch 257/500\n",
            "15/15 [==============================] - 0s 9ms/step - loss: 0.4752 - accuracy: 0.9338\n",
            "Epoch 258/500\n",
            "15/15 [==============================] - 0s 8ms/step - loss: 0.4707 - accuracy: 0.9360\n",
            "Epoch 259/500\n",
            "15/15 [==============================] - 0s 8ms/step - loss: 0.4663 - accuracy: 0.9360\n",
            "Epoch 260/500\n",
            "15/15 [==============================] - 0s 10ms/step - loss: 0.4617 - accuracy: 0.9360\n",
            "Epoch 261/500\n",
            "15/15 [==============================] - 0s 8ms/step - loss: 0.4576 - accuracy: 0.9360\n",
            "Epoch 262/500\n",
            "15/15 [==============================] - 0s 9ms/step - loss: 0.4616 - accuracy: 0.9382\n",
            "Epoch 263/500\n",
            "15/15 [==============================] - 0s 9ms/step - loss: 0.4712 - accuracy: 0.9338\n",
            "Epoch 264/500\n",
            "15/15 [==============================] - 0s 8ms/step - loss: 0.5082 - accuracy: 0.9249\n",
            "Epoch 265/500\n",
            "15/15 [==============================] - 0s 8ms/step - loss: 0.5166 - accuracy: 0.9161\n",
            "Epoch 266/500\n",
            "15/15 [==============================] - 0s 9ms/step - loss: 0.5030 - accuracy: 0.9205\n",
            "Epoch 267/500\n",
            "15/15 [==============================] - 0s 8ms/step - loss: 0.5401 - accuracy: 0.9029\n",
            "Epoch 268/500\n",
            "15/15 [==============================] - 0s 8ms/step - loss: 0.4922 - accuracy: 0.9205\n",
            "Epoch 269/500\n",
            "15/15 [==============================] - 0s 10ms/step - loss: 0.4755 - accuracy: 0.9249\n",
            "Epoch 270/500\n",
            "15/15 [==============================] - 0s 9ms/step - loss: 0.4542 - accuracy: 0.9338\n",
            "Epoch 271/500\n",
            "15/15 [==============================] - 0s 8ms/step - loss: 0.4372 - accuracy: 0.9382\n",
            "Epoch 272/500\n",
            "15/15 [==============================] - 0s 9ms/step - loss: 0.4279 - accuracy: 0.9426\n",
            "Epoch 273/500\n",
            "15/15 [==============================] - 0s 8ms/step - loss: 0.4209 - accuracy: 0.9404\n",
            "Epoch 274/500\n",
            "15/15 [==============================] - 0s 9ms/step - loss: 0.4154 - accuracy: 0.9404\n",
            "Epoch 275/500\n",
            "15/15 [==============================] - 0s 8ms/step - loss: 0.4140 - accuracy: 0.9404\n",
            "Epoch 276/500\n",
            "15/15 [==============================] - 0s 9ms/step - loss: 0.4086 - accuracy: 0.9382\n",
            "Epoch 277/500\n",
            "15/15 [==============================] - 0s 8ms/step - loss: 0.4043 - accuracy: 0.9382\n",
            "Epoch 278/500\n",
            "15/15 [==============================] - 0s 9ms/step - loss: 0.4000 - accuracy: 0.9382\n",
            "Epoch 279/500\n",
            "15/15 [==============================] - 0s 8ms/step - loss: 0.3989 - accuracy: 0.9404\n",
            "Epoch 280/500\n",
            "15/15 [==============================] - 0s 9ms/step - loss: 0.3951 - accuracy: 0.9404\n",
            "Epoch 281/500\n",
            "15/15 [==============================] - 0s 9ms/step - loss: 0.3909 - accuracy: 0.9382\n",
            "Epoch 282/500\n",
            "15/15 [==============================] - 0s 8ms/step - loss: 0.3875 - accuracy: 0.9404\n",
            "Epoch 283/500\n",
            "15/15 [==============================] - 0s 9ms/step - loss: 0.3848 - accuracy: 0.9404\n",
            "Epoch 284/500\n",
            "15/15 [==============================] - 0s 9ms/step - loss: 0.3818 - accuracy: 0.9382\n",
            "Epoch 285/500\n",
            "15/15 [==============================] - 0s 9ms/step - loss: 0.3787 - accuracy: 0.9382\n",
            "Epoch 286/500\n",
            "15/15 [==============================] - 0s 8ms/step - loss: 0.3756 - accuracy: 0.9426\n",
            "Epoch 287/500\n",
            "15/15 [==============================] - 0s 9ms/step - loss: 0.3728 - accuracy: 0.9360\n",
            "Epoch 288/500\n",
            "15/15 [==============================] - 0s 9ms/step - loss: 0.3696 - accuracy: 0.9426\n",
            "Epoch 289/500\n",
            "15/15 [==============================] - 0s 8ms/step - loss: 0.3673 - accuracy: 0.9426\n",
            "Epoch 290/500\n",
            "15/15 [==============================] - 0s 10ms/step - loss: 0.3652 - accuracy: 0.9404\n",
            "Epoch 291/500\n",
            "15/15 [==============================] - 0s 8ms/step - loss: 0.3615 - accuracy: 0.9382\n",
            "Epoch 292/500\n",
            "15/15 [==============================] - 0s 9ms/step - loss: 0.3587 - accuracy: 0.9382\n",
            "Epoch 293/500\n",
            "15/15 [==============================] - 0s 9ms/step - loss: 0.3556 - accuracy: 0.9448\n",
            "Epoch 294/500\n",
            "15/15 [==============================] - 0s 8ms/step - loss: 0.3527 - accuracy: 0.9426\n",
            "Epoch 295/500\n",
            "15/15 [==============================] - 0s 9ms/step - loss: 0.3499 - accuracy: 0.9448\n",
            "Epoch 296/500\n",
            "15/15 [==============================] - 0s 9ms/step - loss: 0.3475 - accuracy: 0.9404\n",
            "Epoch 297/500\n",
            "15/15 [==============================] - 0s 9ms/step - loss: 0.3445 - accuracy: 0.9448\n",
            "Epoch 298/500\n",
            "15/15 [==============================] - 0s 9ms/step - loss: 0.3426 - accuracy: 0.9426\n",
            "Epoch 299/500\n",
            "15/15 [==============================] - 0s 8ms/step - loss: 0.3393 - accuracy: 0.9448\n",
            "Epoch 300/500\n",
            "15/15 [==============================] - 0s 8ms/step - loss: 0.3368 - accuracy: 0.9426\n",
            "Epoch 301/500\n",
            "15/15 [==============================] - 0s 9ms/step - loss: 0.3350 - accuracy: 0.9426\n",
            "Epoch 302/500\n",
            "15/15 [==============================] - 0s 8ms/step - loss: 0.3331 - accuracy: 0.9448\n",
            "Epoch 303/500\n",
            "15/15 [==============================] - 0s 8ms/step - loss: 0.3328 - accuracy: 0.9404\n",
            "Epoch 304/500\n",
            "15/15 [==============================] - 0s 8ms/step - loss: 0.3298 - accuracy: 0.9426\n",
            "Epoch 305/500\n",
            "15/15 [==============================] - 0s 9ms/step - loss: 0.3285 - accuracy: 0.9448\n",
            "Epoch 306/500\n",
            "15/15 [==============================] - 0s 8ms/step - loss: 0.3247 - accuracy: 0.9426\n",
            "Epoch 307/500\n",
            "15/15 [==============================] - 0s 8ms/step - loss: 0.3219 - accuracy: 0.9448\n",
            "Epoch 308/500\n",
            "15/15 [==============================] - 0s 8ms/step - loss: 0.3191 - accuracy: 0.9492\n",
            "Epoch 309/500\n",
            "15/15 [==============================] - 0s 8ms/step - loss: 0.3167 - accuracy: 0.9426\n",
            "Epoch 310/500\n",
            "15/15 [==============================] - 0s 9ms/step - loss: 0.3144 - accuracy: 0.9470\n",
            "Epoch 311/500\n",
            "15/15 [==============================] - 0s 9ms/step - loss: 0.3121 - accuracy: 0.9448\n",
            "Epoch 312/500\n",
            "15/15 [==============================] - 0s 9ms/step - loss: 0.3102 - accuracy: 0.9448\n",
            "Epoch 313/500\n",
            "15/15 [==============================] - 0s 8ms/step - loss: 0.3075 - accuracy: 0.9470\n",
            "Epoch 314/500\n",
            "15/15 [==============================] - 0s 9ms/step - loss: 0.3055 - accuracy: 0.9470\n",
            "Epoch 315/500\n",
            "15/15 [==============================] - 0s 9ms/step - loss: 0.3037 - accuracy: 0.9448\n",
            "Epoch 316/500\n",
            "15/15 [==============================] - 0s 9ms/step - loss: 0.3011 - accuracy: 0.9470\n",
            "Epoch 317/500\n",
            "15/15 [==============================] - 0s 9ms/step - loss: 0.2996 - accuracy: 0.9448\n",
            "Epoch 318/500\n",
            "15/15 [==============================] - 0s 8ms/step - loss: 0.2972 - accuracy: 0.9470\n",
            "Epoch 319/500\n",
            "15/15 [==============================] - 0s 9ms/step - loss: 0.2959 - accuracy: 0.9448\n",
            "Epoch 320/500\n",
            "15/15 [==============================] - 0s 9ms/step - loss: 0.2932 - accuracy: 0.9470\n",
            "Epoch 321/500\n",
            "15/15 [==============================] - 0s 9ms/step - loss: 0.2909 - accuracy: 0.9448\n",
            "Epoch 322/500\n",
            "15/15 [==============================] - 0s 8ms/step - loss: 0.2897 - accuracy: 0.9426\n",
            "Epoch 323/500\n",
            "15/15 [==============================] - 0s 9ms/step - loss: 0.2870 - accuracy: 0.9448\n",
            "Epoch 324/500\n",
            "15/15 [==============================] - 0s 8ms/step - loss: 0.2853 - accuracy: 0.9448\n",
            "Epoch 325/500\n",
            "15/15 [==============================] - 0s 8ms/step - loss: 0.2840 - accuracy: 0.9448\n",
            "Epoch 326/500\n",
            "15/15 [==============================] - 0s 9ms/step - loss: 0.2816 - accuracy: 0.9448\n",
            "Epoch 327/500\n",
            "15/15 [==============================] - 0s 9ms/step - loss: 0.2804 - accuracy: 0.9470\n",
            "Epoch 328/500\n",
            "15/15 [==============================] - 0s 9ms/step - loss: 0.2806 - accuracy: 0.9448\n",
            "Epoch 329/500\n",
            "15/15 [==============================] - 0s 8ms/step - loss: 0.2790 - accuracy: 0.9426\n",
            "Epoch 330/500\n",
            "15/15 [==============================] - 0s 8ms/step - loss: 0.2762 - accuracy: 0.9448\n",
            "Epoch 331/500\n",
            "15/15 [==============================] - 0s 9ms/step - loss: 0.2736 - accuracy: 0.9492\n",
            "Epoch 332/500\n",
            "15/15 [==============================] - 0s 9ms/step - loss: 0.2719 - accuracy: 0.9470\n",
            "Epoch 333/500\n",
            "15/15 [==============================] - 0s 9ms/step - loss: 0.2695 - accuracy: 0.9470\n",
            "Epoch 334/500\n",
            "15/15 [==============================] - 0s 9ms/step - loss: 0.2690 - accuracy: 0.9492\n",
            "Epoch 335/500\n",
            "15/15 [==============================] - 0s 9ms/step - loss: 0.2672 - accuracy: 0.9470\n",
            "Epoch 336/500\n",
            "15/15 [==============================] - 0s 9ms/step - loss: 0.2650 - accuracy: 0.9492\n",
            "Epoch 337/500\n",
            "15/15 [==============================] - 0s 9ms/step - loss: 0.2633 - accuracy: 0.9470\n",
            "Epoch 338/500\n",
            "15/15 [==============================] - 0s 9ms/step - loss: 0.2614 - accuracy: 0.9470\n",
            "Epoch 339/500\n",
            "15/15 [==============================] - 0s 8ms/step - loss: 0.2598 - accuracy: 0.9470\n",
            "Epoch 340/500\n",
            "15/15 [==============================] - 0s 10ms/step - loss: 0.2585 - accuracy: 0.9470\n",
            "Epoch 341/500\n",
            "15/15 [==============================] - 0s 8ms/step - loss: 0.2571 - accuracy: 0.9426\n",
            "Epoch 342/500\n",
            "15/15 [==============================] - 0s 8ms/step - loss: 0.2551 - accuracy: 0.9470\n",
            "Epoch 343/500\n",
            "15/15 [==============================] - 0s 8ms/step - loss: 0.2535 - accuracy: 0.9492\n",
            "Epoch 344/500\n",
            "15/15 [==============================] - 0s 9ms/step - loss: 0.2516 - accuracy: 0.9426\n",
            "Epoch 345/500\n",
            "15/15 [==============================] - 0s 8ms/step - loss: 0.2512 - accuracy: 0.9426\n",
            "Epoch 346/500\n",
            "15/15 [==============================] - 0s 9ms/step - loss: 0.2499 - accuracy: 0.9470\n",
            "Epoch 347/500\n",
            "15/15 [==============================] - 0s 9ms/step - loss: 0.2476 - accuracy: 0.9448\n",
            "Epoch 348/500\n",
            "15/15 [==============================] - 0s 9ms/step - loss: 0.2457 - accuracy: 0.9448\n",
            "Epoch 349/500\n",
            "15/15 [==============================] - 0s 8ms/step - loss: 0.2450 - accuracy: 0.9448\n",
            "Epoch 350/500\n",
            "15/15 [==============================] - 0s 8ms/step - loss: 0.2441 - accuracy: 0.9470\n",
            "Epoch 351/500\n",
            "15/15 [==============================] - 0s 8ms/step - loss: 0.2422 - accuracy: 0.9426\n",
            "Epoch 352/500\n",
            "15/15 [==============================] - 0s 8ms/step - loss: 0.2406 - accuracy: 0.9448\n",
            "Epoch 353/500\n",
            "15/15 [==============================] - 0s 8ms/step - loss: 0.2402 - accuracy: 0.9470\n",
            "Epoch 354/500\n",
            "15/15 [==============================] - 0s 9ms/step - loss: 0.2381 - accuracy: 0.9448\n",
            "Epoch 355/500\n",
            "15/15 [==============================] - 0s 9ms/step - loss: 0.2375 - accuracy: 0.9448\n",
            "Epoch 356/500\n",
            "15/15 [==============================] - 0s 8ms/step - loss: 0.2365 - accuracy: 0.9470\n",
            "Epoch 357/500\n",
            "15/15 [==============================] - 0s 9ms/step - loss: 0.2370 - accuracy: 0.9426\n",
            "Epoch 358/500\n",
            "15/15 [==============================] - 0s 8ms/step - loss: 0.2339 - accuracy: 0.9448\n",
            "Epoch 359/500\n",
            "15/15 [==============================] - 0s 9ms/step - loss: 0.2333 - accuracy: 0.9470\n",
            "Epoch 360/500\n",
            "15/15 [==============================] - 0s 8ms/step - loss: 0.2310 - accuracy: 0.9470\n",
            "Epoch 361/500\n",
            "15/15 [==============================] - 0s 9ms/step - loss: 0.2294 - accuracy: 0.9426\n",
            "Epoch 362/500\n",
            "15/15 [==============================] - 0s 8ms/step - loss: 0.2286 - accuracy: 0.9492\n",
            "Epoch 363/500\n",
            "15/15 [==============================] - 0s 9ms/step - loss: 0.2301 - accuracy: 0.9470\n",
            "Epoch 364/500\n",
            "15/15 [==============================] - 0s 8ms/step - loss: 0.2297 - accuracy: 0.9470\n",
            "Epoch 365/500\n",
            "15/15 [==============================] - 0s 9ms/step - loss: 0.2269 - accuracy: 0.9448\n",
            "Epoch 366/500\n",
            "15/15 [==============================] - 0s 10ms/step - loss: 0.2285 - accuracy: 0.9492\n",
            "Epoch 367/500\n",
            "15/15 [==============================] - 0s 9ms/step - loss: 0.2243 - accuracy: 0.9492\n",
            "Epoch 368/500\n",
            "15/15 [==============================] - 0s 9ms/step - loss: 0.2219 - accuracy: 0.9470\n",
            "Epoch 369/500\n",
            "15/15 [==============================] - 0s 9ms/step - loss: 0.2212 - accuracy: 0.9514\n",
            "Epoch 370/500\n",
            "15/15 [==============================] - 0s 8ms/step - loss: 0.2199 - accuracy: 0.9492\n",
            "Epoch 371/500\n",
            "15/15 [==============================] - 0s 8ms/step - loss: 0.2186 - accuracy: 0.9492\n",
            "Epoch 372/500\n",
            "15/15 [==============================] - 0s 8ms/step - loss: 0.2168 - accuracy: 0.9492\n",
            "Epoch 373/500\n",
            "15/15 [==============================] - 0s 9ms/step - loss: 0.2155 - accuracy: 0.9514\n",
            "Epoch 374/500\n",
            "15/15 [==============================] - 0s 10ms/step - loss: 0.2144 - accuracy: 0.9492\n",
            "Epoch 375/500\n",
            "15/15 [==============================] - 0s 9ms/step - loss: 0.2127 - accuracy: 0.9492\n",
            "Epoch 376/500\n",
            "15/15 [==============================] - 0s 9ms/step - loss: 0.2128 - accuracy: 0.9448\n",
            "Epoch 377/500\n",
            "15/15 [==============================] - 0s 8ms/step - loss: 0.2118 - accuracy: 0.9404\n",
            "Epoch 378/500\n",
            "15/15 [==============================] - 0s 9ms/step - loss: 0.2107 - accuracy: 0.9492\n",
            "Epoch 379/500\n",
            "15/15 [==============================] - 0s 9ms/step - loss: 0.2091 - accuracy: 0.9492\n",
            "Epoch 380/500\n",
            "15/15 [==============================] - 0s 8ms/step - loss: 0.2077 - accuracy: 0.9492\n",
            "Epoch 381/500\n",
            "15/15 [==============================] - 0s 9ms/step - loss: 0.2066 - accuracy: 0.9492\n",
            "Epoch 382/500\n",
            "15/15 [==============================] - 0s 9ms/step - loss: 0.2050 - accuracy: 0.9448\n",
            "Epoch 383/500\n",
            "15/15 [==============================] - 0s 9ms/step - loss: 0.2044 - accuracy: 0.9470\n",
            "Epoch 384/500\n",
            "15/15 [==============================] - 0s 8ms/step - loss: 0.2030 - accuracy: 0.9470\n",
            "Epoch 385/500\n",
            "15/15 [==============================] - 0s 9ms/step - loss: 0.2019 - accuracy: 0.9470\n",
            "Epoch 386/500\n",
            "15/15 [==============================] - 0s 8ms/step - loss: 0.2005 - accuracy: 0.9492\n",
            "Epoch 387/500\n",
            "15/15 [==============================] - 0s 9ms/step - loss: 0.2001 - accuracy: 0.9448\n",
            "Epoch 388/500\n",
            "15/15 [==============================] - 0s 8ms/step - loss: 0.1998 - accuracy: 0.9470\n",
            "Epoch 389/500\n",
            "15/15 [==============================] - 0s 9ms/step - loss: 0.1992 - accuracy: 0.9448\n",
            "Epoch 390/500\n",
            "15/15 [==============================] - 0s 9ms/step - loss: 0.1979 - accuracy: 0.9470\n",
            "Epoch 391/500\n",
            "15/15 [==============================] - 0s 9ms/step - loss: 0.1960 - accuracy: 0.9492\n",
            "Epoch 392/500\n",
            "15/15 [==============================] - 0s 8ms/step - loss: 0.1944 - accuracy: 0.9492\n",
            "Epoch 393/500\n",
            "15/15 [==============================] - 0s 9ms/step - loss: 0.1946 - accuracy: 0.9448\n",
            "Epoch 394/500\n",
            "15/15 [==============================] - 0s 8ms/step - loss: 0.1933 - accuracy: 0.9492\n",
            "Epoch 395/500\n",
            "15/15 [==============================] - 0s 9ms/step - loss: 0.1925 - accuracy: 0.9448\n",
            "Epoch 396/500\n",
            "15/15 [==============================] - 0s 8ms/step - loss: 0.1933 - accuracy: 0.9470\n",
            "Epoch 397/500\n",
            "15/15 [==============================] - 0s 9ms/step - loss: 0.1928 - accuracy: 0.9492\n",
            "Epoch 398/500\n",
            "15/15 [==============================] - 0s 8ms/step - loss: 0.1903 - accuracy: 0.9492\n",
            "Epoch 399/500\n",
            "15/15 [==============================] - 0s 8ms/step - loss: 0.2074 - accuracy: 0.9448\n",
            "Epoch 400/500\n",
            "15/15 [==============================] - 0s 8ms/step - loss: 0.2489 - accuracy: 0.9360\n",
            "Epoch 401/500\n",
            "15/15 [==============================] - 0s 9ms/step - loss: 0.3044 - accuracy: 0.9205\n",
            "Epoch 402/500\n",
            "15/15 [==============================] - 0s 8ms/step - loss: 0.3025 - accuracy: 0.9227\n",
            "Epoch 403/500\n",
            "15/15 [==============================] - 0s 9ms/step - loss: 0.2939 - accuracy: 0.9249\n",
            "Epoch 404/500\n",
            "15/15 [==============================] - 0s 9ms/step - loss: 0.3126 - accuracy: 0.9272\n",
            "Epoch 405/500\n",
            "15/15 [==============================] - 0s 8ms/step - loss: 0.2684 - accuracy: 0.9316\n",
            "Epoch 406/500\n",
            "15/15 [==============================] - 0s 8ms/step - loss: 0.2458 - accuracy: 0.9360\n",
            "Epoch 407/500\n",
            "15/15 [==============================] - 0s 8ms/step - loss: 0.2284 - accuracy: 0.9470\n",
            "Epoch 408/500\n",
            "15/15 [==============================] - 0s 8ms/step - loss: 0.2165 - accuracy: 0.9470\n",
            "Epoch 409/500\n",
            "15/15 [==============================] - 0s 8ms/step - loss: 0.2052 - accuracy: 0.9470\n",
            "Epoch 410/500\n",
            "15/15 [==============================] - 0s 9ms/step - loss: 0.2006 - accuracy: 0.9470\n",
            "Epoch 411/500\n",
            "15/15 [==============================] - 0s 9ms/step - loss: 0.1966 - accuracy: 0.9448\n",
            "Epoch 412/500\n",
            "15/15 [==============================] - 0s 8ms/step - loss: 0.1915 - accuracy: 0.9426\n",
            "Epoch 413/500\n",
            "15/15 [==============================] - 0s 9ms/step - loss: 0.1903 - accuracy: 0.9404\n",
            "Epoch 414/500\n",
            "15/15 [==============================] - 0s 8ms/step - loss: 0.1904 - accuracy: 0.9470\n",
            "Epoch 415/500\n",
            "15/15 [==============================] - 0s 8ms/step - loss: 0.1868 - accuracy: 0.9448\n",
            "Epoch 416/500\n",
            "15/15 [==============================] - 0s 9ms/step - loss: 0.1859 - accuracy: 0.9448\n",
            "Epoch 417/500\n",
            "15/15 [==============================] - 0s 9ms/step - loss: 0.1863 - accuracy: 0.9470\n",
            "Epoch 418/500\n",
            "15/15 [==============================] - 0s 9ms/step - loss: 0.1832 - accuracy: 0.9360\n",
            "Epoch 419/500\n",
            "15/15 [==============================] - 0s 8ms/step - loss: 0.1815 - accuracy: 0.9470\n",
            "Epoch 420/500\n",
            "15/15 [==============================] - 0s 9ms/step - loss: 0.1800 - accuracy: 0.9426\n",
            "Epoch 421/500\n",
            "15/15 [==============================] - 0s 8ms/step - loss: 0.1772 - accuracy: 0.9448\n",
            "Epoch 422/500\n",
            "15/15 [==============================] - 0s 8ms/step - loss: 0.1769 - accuracy: 0.9470\n",
            "Epoch 423/500\n",
            "15/15 [==============================] - 0s 8ms/step - loss: 0.1754 - accuracy: 0.9470\n",
            "Epoch 424/500\n",
            "15/15 [==============================] - 0s 9ms/step - loss: 0.1743 - accuracy: 0.9492\n",
            "Epoch 425/500\n",
            "15/15 [==============================] - 0s 9ms/step - loss: 0.1728 - accuracy: 0.9426\n",
            "Epoch 426/500\n",
            "15/15 [==============================] - 0s 8ms/step - loss: 0.1726 - accuracy: 0.9492\n",
            "Epoch 427/500\n",
            "15/15 [==============================] - 0s 9ms/step - loss: 0.1714 - accuracy: 0.9492\n",
            "Epoch 428/500\n",
            "15/15 [==============================] - 0s 8ms/step - loss: 0.1710 - accuracy: 0.9448\n",
            "Epoch 429/500\n",
            "15/15 [==============================] - 0s 9ms/step - loss: 0.1702 - accuracy: 0.9470\n",
            "Epoch 430/500\n",
            "15/15 [==============================] - 0s 8ms/step - loss: 0.1681 - accuracy: 0.9514\n",
            "Epoch 431/500\n",
            "15/15 [==============================] - 0s 8ms/step - loss: 0.1680 - accuracy: 0.9514\n",
            "Epoch 432/500\n",
            "15/15 [==============================] - 0s 9ms/step - loss: 0.1666 - accuracy: 0.9448\n",
            "Epoch 433/500\n",
            "15/15 [==============================] - 0s 8ms/step - loss: 0.1659 - accuracy: 0.9514\n",
            "Epoch 434/500\n",
            "15/15 [==============================] - 0s 9ms/step - loss: 0.1651 - accuracy: 0.9470\n",
            "Epoch 435/500\n",
            "15/15 [==============================] - 0s 9ms/step - loss: 0.1641 - accuracy: 0.9470\n",
            "Epoch 436/500\n",
            "15/15 [==============================] - 0s 8ms/step - loss: 0.1631 - accuracy: 0.9470\n",
            "Epoch 437/500\n",
            "15/15 [==============================] - 0s 8ms/step - loss: 0.1625 - accuracy: 0.9470\n",
            "Epoch 438/500\n",
            "15/15 [==============================] - 0s 11ms/step - loss: 0.1620 - accuracy: 0.9470\n",
            "Epoch 439/500\n",
            "15/15 [==============================] - 0s 9ms/step - loss: 0.1619 - accuracy: 0.9448\n",
            "Epoch 440/500\n",
            "15/15 [==============================] - 0s 8ms/step - loss: 0.1608 - accuracy: 0.9470\n",
            "Epoch 441/500\n",
            "15/15 [==============================] - 0s 8ms/step - loss: 0.1607 - accuracy: 0.9514\n",
            "Epoch 442/500\n",
            "15/15 [==============================] - 0s 8ms/step - loss: 0.1597 - accuracy: 0.9470\n",
            "Epoch 443/500\n",
            "15/15 [==============================] - 0s 8ms/step - loss: 0.1609 - accuracy: 0.9492\n",
            "Epoch 444/500\n",
            "15/15 [==============================] - 0s 8ms/step - loss: 0.1592 - accuracy: 0.9514\n",
            "Epoch 445/500\n",
            "15/15 [==============================] - 0s 9ms/step - loss: 0.1587 - accuracy: 0.9470\n",
            "Epoch 446/500\n",
            "15/15 [==============================] - 0s 9ms/step - loss: 0.1576 - accuracy: 0.9492\n",
            "Epoch 447/500\n",
            "15/15 [==============================] - 0s 8ms/step - loss: 0.1565 - accuracy: 0.9426\n",
            "Epoch 448/500\n",
            "15/15 [==============================] - 0s 9ms/step - loss: 0.1567 - accuracy: 0.9426\n",
            "Epoch 449/500\n",
            "15/15 [==============================] - 0s 8ms/step - loss: 0.1560 - accuracy: 0.9470\n",
            "Epoch 450/500\n",
            "15/15 [==============================] - 0s 9ms/step - loss: 0.1558 - accuracy: 0.9470\n",
            "Epoch 451/500\n",
            "15/15 [==============================] - 0s 8ms/step - loss: 0.1547 - accuracy: 0.9470\n",
            "Epoch 452/500\n",
            "15/15 [==============================] - 0s 8ms/step - loss: 0.1537 - accuracy: 0.9470\n",
            "Epoch 453/500\n",
            "15/15 [==============================] - 0s 8ms/step - loss: 0.1543 - accuracy: 0.9536\n",
            "Epoch 454/500\n",
            "15/15 [==============================] - 0s 9ms/step - loss: 0.1531 - accuracy: 0.9492\n",
            "Epoch 455/500\n",
            "15/15 [==============================] - 0s 8ms/step - loss: 0.1529 - accuracy: 0.9492\n",
            "Epoch 456/500\n",
            "15/15 [==============================] - 0s 9ms/step - loss: 0.1519 - accuracy: 0.9514\n",
            "Epoch 457/500\n",
            "15/15 [==============================] - 0s 8ms/step - loss: 0.1515 - accuracy: 0.9470\n",
            "Epoch 458/500\n",
            "15/15 [==============================] - 0s 9ms/step - loss: 0.1509 - accuracy: 0.9514\n",
            "Epoch 459/500\n",
            "15/15 [==============================] - 0s 8ms/step - loss: 0.1505 - accuracy: 0.9514\n",
            "Epoch 460/500\n",
            "15/15 [==============================] - 0s 9ms/step - loss: 0.1506 - accuracy: 0.9492\n",
            "Epoch 461/500\n",
            "15/15 [==============================] - 0s 10ms/step - loss: 0.1493 - accuracy: 0.9492\n",
            "Epoch 462/500\n",
            "15/15 [==============================] - 0s 9ms/step - loss: 0.1489 - accuracy: 0.9426\n",
            "Epoch 463/500\n",
            "15/15 [==============================] - 0s 8ms/step - loss: 0.1481 - accuracy: 0.9536\n",
            "Epoch 464/500\n",
            "15/15 [==============================] - 0s 8ms/step - loss: 0.1478 - accuracy: 0.9514\n",
            "Epoch 465/500\n",
            "15/15 [==============================] - 0s 8ms/step - loss: 0.1479 - accuracy: 0.9514\n",
            "Epoch 466/500\n",
            "15/15 [==============================] - 0s 9ms/step - loss: 0.1470 - accuracy: 0.9470\n",
            "Epoch 467/500\n",
            "15/15 [==============================] - 0s 9ms/step - loss: 0.1467 - accuracy: 0.9404\n",
            "Epoch 468/500\n",
            "15/15 [==============================] - 0s 9ms/step - loss: 0.1460 - accuracy: 0.9470\n",
            "Epoch 469/500\n",
            "15/15 [==============================] - 0s 8ms/step - loss: 0.1457 - accuracy: 0.9492\n",
            "Epoch 470/500\n",
            "15/15 [==============================] - 0s 9ms/step - loss: 0.1453 - accuracy: 0.9492\n",
            "Epoch 471/500\n",
            "15/15 [==============================] - 0s 9ms/step - loss: 0.1445 - accuracy: 0.9492\n",
            "Epoch 472/500\n",
            "15/15 [==============================] - 0s 8ms/step - loss: 0.1450 - accuracy: 0.9470\n",
            "Epoch 473/500\n",
            "15/15 [==============================] - 0s 8ms/step - loss: 0.1439 - accuracy: 0.9470\n",
            "Epoch 474/500\n",
            "15/15 [==============================] - 0s 9ms/step - loss: 0.1430 - accuracy: 0.9514\n",
            "Epoch 475/500\n",
            "15/15 [==============================] - 0s 9ms/step - loss: 0.1423 - accuracy: 0.9492\n",
            "Epoch 476/500\n",
            "15/15 [==============================] - 0s 8ms/step - loss: 0.1421 - accuracy: 0.9536\n",
            "Epoch 477/500\n",
            "15/15 [==============================] - 0s 8ms/step - loss: 0.1411 - accuracy: 0.9536\n",
            "Epoch 478/500\n",
            "15/15 [==============================] - 0s 8ms/step - loss: 0.1415 - accuracy: 0.9536\n",
            "Epoch 479/500\n",
            "15/15 [==============================] - 0s 8ms/step - loss: 0.1407 - accuracy: 0.9492\n",
            "Epoch 480/500\n",
            "15/15 [==============================] - 0s 8ms/step - loss: 0.1400 - accuracy: 0.9514\n",
            "Epoch 481/500\n",
            "15/15 [==============================] - 0s 8ms/step - loss: 0.1393 - accuracy: 0.9514\n",
            "Epoch 482/500\n",
            "15/15 [==============================] - 0s 9ms/step - loss: 0.1410 - accuracy: 0.9536\n",
            "Epoch 483/500\n",
            "15/15 [==============================] - 0s 8ms/step - loss: 0.1394 - accuracy: 0.9514\n",
            "Epoch 484/500\n",
            "15/15 [==============================] - 0s 8ms/step - loss: 0.1386 - accuracy: 0.9492\n",
            "Epoch 485/500\n",
            "15/15 [==============================] - 0s 8ms/step - loss: 0.1390 - accuracy: 0.9536\n",
            "Epoch 486/500\n",
            "15/15 [==============================] - 0s 8ms/step - loss: 0.1385 - accuracy: 0.9448\n",
            "Epoch 487/500\n",
            "15/15 [==============================] - 0s 9ms/step - loss: 0.1376 - accuracy: 0.9426\n",
            "Epoch 488/500\n",
            "15/15 [==============================] - 0s 8ms/step - loss: 0.1372 - accuracy: 0.9514\n",
            "Epoch 489/500\n",
            "15/15 [==============================] - 0s 9ms/step - loss: 0.1365 - accuracy: 0.9514\n",
            "Epoch 490/500\n",
            "15/15 [==============================] - 0s 8ms/step - loss: 0.1392 - accuracy: 0.9470\n",
            "Epoch 491/500\n",
            "15/15 [==============================] - 0s 8ms/step - loss: 0.1389 - accuracy: 0.9470\n",
            "Epoch 492/500\n",
            "15/15 [==============================] - 0s 8ms/step - loss: 0.1367 - accuracy: 0.9514\n",
            "Epoch 493/500\n",
            "15/15 [==============================] - 0s 8ms/step - loss: 0.1356 - accuracy: 0.9536\n",
            "Epoch 494/500\n",
            "15/15 [==============================] - 0s 8ms/step - loss: 0.1357 - accuracy: 0.9514\n",
            "Epoch 495/500\n",
            "15/15 [==============================] - 0s 8ms/step - loss: 0.1351 - accuracy: 0.9492\n",
            "Epoch 496/500\n",
            "15/15 [==============================] - 0s 8ms/step - loss: 0.1343 - accuracy: 0.9448\n",
            "Epoch 497/500\n",
            "15/15 [==============================] - 0s 9ms/step - loss: 0.1337 - accuracy: 0.9470\n",
            "Epoch 498/500\n",
            "15/15 [==============================] - 0s 8ms/step - loss: 0.1335 - accuracy: 0.9470\n",
            "Epoch 499/500\n",
            "15/15 [==============================] - 0s 8ms/step - loss: 0.1335 - accuracy: 0.9470\n",
            "Epoch 500/500\n",
            "15/15 [==============================] - 0s 8ms/step - loss: 0.1334 - accuracy: 0.9492\n"
          ],
          "name": "stdout"
        }
      ]
    },
    {
      "cell_type": "code",
      "metadata": {
        "id": "Y6VjcYJKcXWd",
        "colab_type": "code",
        "colab": {
          "base_uri": "https://localhost:8080/",
          "height": 286
        },
        "outputId": "49b4fb69-26d8-443c-fbf2-b45bd3e3b934"
      },
      "source": [
        "plt.plot(range(500), history.history['accuracy'])"
      ],
      "execution_count": 27,
      "outputs": [
        {
          "output_type": "execute_result",
          "data": {
            "text/plain": [
              "[<matplotlib.lines.Line2D at 0x7f3b5ab3d048>]"
            ]
          },
          "metadata": {
            "tags": []
          },
          "execution_count": 27
        },
        {
          "output_type": "display_data",
          "data": {
            "image/png": "[encoded data removed]",
            "text/plain": [
              "<Figure size 432x288 with 1 Axes>"
            ]
          },
          "metadata": {
            "tags": [],
            "needs_background": "light"
          }
        }
      ]
    },
    {
      "cell_type": "code",
      "metadata": {
        "id": "uY0q8JNnftJk",
        "colab_type": "code",
        "colab": {}
      },
      "source": [
        "reversed = dict([(value, key) for key, value in token.word_index.items()])"
      ],
      "execution_count": 28,
      "outputs": []
    },
    {
      "cell_type": "markdown",
      "metadata": {
        "id": "WbhErvyGt5AQ",
        "colab_type": "text"
      },
      "source": [
        "## Preciting next word of an example"
      ]
    },
    {
      "cell_type": "code",
      "metadata": {
        "id": "9S3CUgJUcwva",
        "colab_type": "code",
        "colab": {}
      },
      "source": [
        "example =\"Bhanu went to dublin\"\n"
      ],
      "execution_count": 33,
      "outputs": []
    },
    {
      "cell_type": "code",
      "metadata": {
        "id": "eq2cZ4lNnTzb",
        "colab_type": "code",
        "colab": {
          "base_uri": "https://localhost:8080/",
          "height": 68
        },
        "outputId": "5aecdb30-94b6-4cf8-bdc2-f13805b6b47b"
      },
      "source": [
        "seq = token.texts_to_sequences([example])[0]\n",
        "pad = pad_sequences([seq], maxlen=10, padding='pre', truncating='pre')\n",
        "predicted = model.predict_classes(pad)\n",
        "for i in predicted:\n",
        "  predicted_int= int(i)\n",
        "\n",
        "new_word = reversed[predicted_int]\n",
        "example= example + ' ' + new_word\n",
        "print(example)\n",
        "\n",
        "print(seq)\n",
        "print(pad)"
      ],
      "execution_count": 34,
      "outputs": [
        {
          "output_type": "stream",
          "text": [
            "Bhanu went to dublin the\n",
            "[134, 13, 59]\n",
            "[[  0   0   0   0   0   0   0 134  13  59]]\n"
          ],
          "name": "stdout"
        }
      ]
    },
    {
      "cell_type": "markdown",
      "metadata": {
        "id": "z2xXN2z7uBvp",
        "colab_type": "text"
      },
      "source": [
        "## Predicting next 100 words"
      ]
    },
    {
      "cell_type": "code",
      "metadata": {
        "id": "SfQeJ9ZotO_O",
        "colab_type": "code",
        "colab": {}
      },
      "source": [
        "example =\"Bhanu went to dublin\""
      ],
      "execution_count": 37,
      "outputs": []
    },
    {
      "cell_type": "code",
      "metadata": {
        "id": "r6CI80nYc5Xh",
        "colab_type": "code",
        "colab": {
          "base_uri": "https://localhost:8080/",
          "height": 54
        },
        "outputId": "0e989ced-cf7c-4b9b-ca4b-b7ebb736f386"
      },
      "source": [
        "for k in range(100):\n",
        "  seq = token.texts_to_sequences([example])[0]\n",
        "  pad = pad_sequences([seq], maxlen=10, padding='pre', truncating='pre')\n",
        "  predicted = model.predict_classes(pad)\n",
        "  for i in predicted:\n",
        "    predicted_int= int(i)\n",
        "\n",
        "  new_word = reversed[predicted_int]\n",
        "  example= example + ' ' + new_word\n",
        "print(example)\n",
        "\n"
      ],
      "execution_count": 38,
      "outputs": [
        {
          "output_type": "stream",
          "text": [
            "Bhanu went to dublin the end to lanigans ball ball brooks hall had me gray sweetheart me free me up up me up free invitation me in no free taras further further further glisten them me me new strangled hall painted painted call had me sweetheart hall eyes me me me up new eyes me me ball ball me me me ball nelly me me me me me free me me me me free free further further them me me me me me new row man as further further them me me new lanigans lanigans ball ball ball ball ball youll call had nonsense\n"
          ],
          "name": "stdout"
        }
      ]
    }
  ]
}